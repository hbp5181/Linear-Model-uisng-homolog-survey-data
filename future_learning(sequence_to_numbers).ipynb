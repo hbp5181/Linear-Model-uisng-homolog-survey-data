{
  "cells": [
    {
      "cell_type": "markdown",
      "metadata": {
        "id": "view-in-github",
        "colab_type": "text"
      },
      "source": [
        "<a href=\"https://colab.research.google.com/github/hbp5181/Linear-Model-uisng-homolog-survey-data/blob/main/future_learning(sequence_to_numbers).ipynb\" target=\"_parent\"><img src=\"https://colab.research.google.com/assets/colab-badge.svg\" alt=\"Open In Colab\"/></a>"
      ]
    },
    {
      "cell_type": "markdown",
      "id": "43GQPw7R_ZbY",
      "metadata": {
        "id": "43GQPw7R_ZbY"
      },
      "source": [
        "# Inverse folding with ESM-IF1\n",
        "\n",
        "The ESM-IF1 inverse folding model is built for predicting protein sequences from their backbone atom coordinates. We provide examples here 1) to sample sequence designs for a given structure and 2) to score sequences for a given structure.\n",
        "\n",
        "Trained with 12M protein structures predicted by AlphaFold2, the ESM-IF1 model consists of invariant geometric input processing layers followed by a sequence-to-sequence transformer, and achieves 51% native sequence recovery on structurally held-out backbones. The model is also trained with span masking to tolerate missing backbone coordinates and therefore can predict sequences for partially masked structures.\n",
        "\n",
        "See [GitHub README](https://github.com/facebookresearch/esm/tree/main/examples/inverse_folding) for the complete user guide, and see our [bioRxiv pre-print](https://doi.org/10.1101/2022.04.10.487779) for more details."
      ]
    },
    {
      "cell_type": "markdown",
      "id": "8c6TDUVupgNn",
      "metadata": {
        "id": "8c6TDUVupgNn"
      },
      "source": [
        "## Environment setup (colab)\n",
        "This step might take up to 10 minutes the first time.\n",
        "\n",
        "If using a local jupyter environment, instead of the following, we recommend configuring a conda environment upon first use in command line:\n",
        "```\n",
        "conda create -n inverse python=3.9\n",
        "conda activate inverse\n",
        "conda install pytorch cudatoolkit=11.3 -c pytorch\n",
        "conda install pyg -c pyg -c conda-forge\n",
        "conda install pip\n",
        "pip install biotite\n",
        "pip install git+https://github.com/facebookresearch/esm.git\n",
        "```\n",
        "\n",
        "Afterwards, `conda activate inverse` to activate this environment before starting `jupyter notebook`.\n",
        "\n",
        "Below is the setup for colab notebooks:\n",
        "\n",
        "We recommend using GPU runtimes on colab (Menu bar -> Runtime -> Change runtime type -> Hardware accelerator -> GPU)"
      ]
    },
    {
      "cell_type": "code",
      "execution_count": 2,
      "id": "nLOymXwdwUXo",
      "metadata": {
        "colab": {
          "base_uri": "https://localhost:8080/"
        },
        "id": "nLOymXwdwUXo",
        "outputId": "f3022d02-7330-4280-8fe6-40232f4f501b"
      },
      "outputs": [
        {
          "output_type": "stream",
          "name": "stdout",
          "text": [
            "\u001b[2K     \u001b[90m━━━━━━━━━━━━━━━━━━━━━━━━━━━━━━━━━━━━━━━━\u001b[0m \u001b[32m10.8/10.8 MB\u001b[0m \u001b[31m77.3 MB/s\u001b[0m eta \u001b[36m0:00:00\u001b[0m\n",
            "\u001b[2K     \u001b[90m━━━━━━━━━━━━━━━━━━━━━━━━━━━━━━━━━━━━━━━━\u001b[0m \u001b[32m5.0/5.0 MB\u001b[0m \u001b[31m47.5 MB/s\u001b[0m eta \u001b[36m0:00:00\u001b[0m\n",
            "\u001b[2K     \u001b[90m━━━━━━━━━━━━━━━━━━━━━━━━━━━━━━━━━━━━━━━━\u001b[0m \u001b[32m3.3/3.3 MB\u001b[0m \u001b[31m25.5 MB/s\u001b[0m eta \u001b[36m0:00:00\u001b[0m\n",
            "\u001b[2K     \u001b[90m━━━━━━━━━━━━━━━━━━━━━━━━━━━━━━━━━━━━━━━━\u001b[0m \u001b[32m932.1/932.1 kB\u001b[0m \u001b[31m14.2 MB/s\u001b[0m eta \u001b[36m0:00:00\u001b[0m\n",
            "\u001b[2K     \u001b[90m━━━━━━━━━━━━━━━━━━━━━━━━━━━━━━━━━━━━━━━━\u001b[0m \u001b[32m1.0/1.0 MB\u001b[0m \u001b[31m5.3 MB/s\u001b[0m eta \u001b[36m0:00:00\u001b[0m\n",
            "\u001b[?25h  Installing build dependencies ... \u001b[?25l\u001b[?25hdone\n",
            "  Getting requirements to build wheel ... \u001b[?25l\u001b[?25hdone\n",
            "  Preparing metadata (pyproject.toml) ... \u001b[?25l\u001b[?25hdone\n",
            "  Building wheel for fair-esm (pyproject.toml) ... \u001b[?25l\u001b[?25hdone\n",
            "\u001b[2K     \u001b[90m━━━━━━━━━━━━━━━━━━━━━━━━━━━━━━━━━━━━━━━━\u001b[0m \u001b[32m52.8/52.8 MB\u001b[0m \u001b[31m18.0 MB/s\u001b[0m eta \u001b[36m0:00:00\u001b[0m\n",
            "\u001b[?25h"
          ]
        }
      ],
      "source": [
        "# Colab environment setup\n",
        "\n",
        "# Install the correct version of Pytorch Geometric.\n",
        "import torch\n",
        "import os\n",
        "\n",
        "def format_pytorch_version(version):\n",
        "  return version.split('+')[0]\n",
        "\n",
        "TORCH_version = torch.__version__\n",
        "TORCH = format_pytorch_version(TORCH_version)\n",
        "\n",
        "def format_cuda_version(version):\n",
        "  return 'cu' + version.replace('.', '')\n",
        "\n",
        "CUDA_version = torch.version.cuda\n",
        "CUDA = format_cuda_version(CUDA_version)\n",
        "\n",
        "!pip install -q torch-scatter -f https://data.pyg.org/whl/torch-{TORCH}+{CUDA}.html\n",
        "!pip install -q torch-sparse -f https://data.pyg.org/whl/torch-{TORCH}+{CUDA}.html\n",
        "!pip install -q torch-cluster -f https://data.pyg.org/whl/torch-{TORCH}+{CUDA}.html\n",
        "!pip install -q torch-spline-conv -f https://data.pyg.org/whl/torch-{TORCH}+{CUDA}.html\n",
        "!pip install -q torch-geometric\n",
        "\n",
        "# Install esm\n",
        "!pip install -q git+https://github.com/facebookresearch/esm.git\n",
        "\n",
        "# Install biotite\n",
        "!pip install -q biotite"
      ]
    },
    {
      "cell_type": "markdown",
      "id": "EhDI4ZIX0Z4w",
      "metadata": {
        "id": "EhDI4ZIX0Z4w"
      },
      "source": [
        "### Verify that pytorch-geometric is correctly installed\n",
        "\n",
        "If the notebook crashes at the import, there is likely an issue with the version of torch_geometric and torch_sparse being incompatible with the torch version."
      ]
    },
    {
      "cell_type": "code",
      "execution_count": 3,
      "id": "1-HvBXt1wWPu",
      "metadata": {
        "id": "1-HvBXt1wWPu"
      },
      "outputs": [],
      "source": [
        "## Verify that pytorch-geometric is correctly installed\n",
        "import torch_geometric\n",
        "import torch_sparse\n",
        "from torch_geometric.nn import MessagePassing"
      ]
    },
    {
      "cell_type": "markdown",
      "id": "18544eee",
      "metadata": {
        "id": "18544eee"
      },
      "source": [
        "## Load model\n",
        "This steps takes a few minutes for the model to download.\n",
        "\n",
        "**UPDATE**: It is important to set the model in eval mode through `model = model.eval()` to disable random dropout for optimal performance."
      ]
    },
    {
      "cell_type": "code",
      "execution_count": 4,
      "id": "14d8f393",
      "metadata": {
        "colab": {
          "base_uri": "https://localhost:8080/"
        },
        "id": "14d8f393",
        "outputId": "44a4f37f-44d3-4921-f5f3-6571801e031b"
      },
      "outputs": [
        {
          "output_type": "stream",
          "name": "stderr",
          "text": [
            "Downloading: \"https://dl.fbaipublicfiles.com/fair-esm/models/esm_if1_gvp4_t16_142M_UR50.pt\" to /root/.cache/torch/hub/checkpoints/esm_if1_gvp4_t16_142M_UR50.pt\n",
            "/usr/local/lib/python3.10/dist-packages/esm/pretrained.py:215: UserWarning: Regression weights not found, predicting contacts will not produce correct results.\n",
            "  warnings.warn(\n"
          ]
        }
      ],
      "source": [
        "import esm\n",
        "model, alphabet = esm.pretrained.esm_if1_gvp4_t16_142M_UR50()\n",
        "model = model.eval()"
      ]
    },
    {
      "cell_type": "markdown",
      "id": "17cb6adc",
      "metadata": {
        "id": "17cb6adc"
      },
      "source": [
        "## Extract encoder output as structure representation\n",
        "The encoder output may also be used as a representation for the structure.\n",
        "\n",
        "For a set of input coordinates with L amino acids, the encoder output will have shape L x 512."
      ]
    },
    {
      "cell_type": "code",
      "source": [
        "! esm-extract esm2_t33_650M_UR50D /content/RBD_align_SSM-backgrounds.fasta.txt\\\n",
        "  coordoutputRBD.fasta --repr_layers 33 --include mean\n",
        "! esm-extract esm2_t33_650M_UR50D /content/ACE2_aa_modified.fasta \\\n",
        "  coordoutputACE2.fasta --repr_layers 33 --include mean\n",
        "\n"
      ],
      "metadata": {
        "colab": {
          "base_uri": "https://localhost:8080/"
        },
        "id": "zIV7yWTPG3Bc",
        "outputId": "06cb27a8-73a5-4396-d4bb-b6b1cd5f1d03"
      },
      "id": "zIV7yWTPG3Bc",
      "execution_count": 5,
      "outputs": [
        {
          "output_type": "stream",
          "name": "stdout",
          "text": [
            "Downloading: \"https://dl.fbaipublicfiles.com/fair-esm/models/esm2_t33_650M_UR50D.pt\" to /root/.cache/torch/hub/checkpoints/esm2_t33_650M_UR50D.pt\n",
            "Downloading: \"https://dl.fbaipublicfiles.com/fair-esm/regression/esm2_t33_650M_UR50D-contact-regression.pt\" to /root/.cache/torch/hub/checkpoints/esm2_t33_650M_UR50D-contact-regression.pt\n",
            "Transferred model to GPU\n",
            "Read /content/RBD_align_SSM-backgrounds.fasta.txt with 14 sequences\n",
            "Processing 1 of 1 batches (14 sequences)\n",
            "Transferred model to GPU\n",
            "Read /content/ACE2_aa_modified.fasta with 62 sequences\n",
            "Processing 1 of 13 batches (5 sequences)\n",
            "Processing 2 of 13 batches (5 sequences)\n",
            "Processing 3 of 13 batches (5 sequences)\n",
            "Processing 4 of 13 batches (5 sequences)\n",
            "Processing 5 of 13 batches (5 sequences)\n",
            "Processing 6 of 13 batches (5 sequences)\n",
            "Processing 7 of 13 batches (5 sequences)\n",
            "Processing 8 of 13 batches (5 sequences)\n",
            "Processing 9 of 13 batches (5 sequences)\n",
            "Processing 10 of 13 batches (5 sequences)\n",
            "Processing 11 of 13 batches (5 sequences)\n",
            "Processing 12 of 13 batches (5 sequences)\n",
            "Processing 13 of 13 batches (2 sequences)\n"
          ]
        }
      ]
    },
    {
      "cell_type": "code",
      "source": [
        "# Specify the folders containing the .pt files\n",
        "folder_paths = ['/content/coordoutputRBD.fasta', '/content/coordoutputACE2.fasta']\n",
        "\n",
        "# Flatten the list of filenames\n",
        "pt_files = [os.path.join(folder, f) for folder in folder_paths for f in os.listdir(folder) if f.endswith('.pt')]\n",
        "\n",
        "# Iterate over each .pt file\n",
        "for file_path in pt_files:\n",
        "    # Load the model using torch.load\n",
        "    model_dict = torch.load(file_path, map_location=torch.device('cpu'))\n",
        "    for key, value in model_dict.items():\n",
        "        print(value)\n"
      ],
      "metadata": {
        "colab": {
          "base_uri": "https://localhost:8080/"
        },
        "id": "aOd1C6URsuIs",
        "outputId": "35f2c1c0-64af-4a83-ff73-6d1f1b9fb508"
      },
      "id": "aOd1C6URsuIs",
      "execution_count": 6,
      "outputs": [
        {
          "output_type": "stream",
          "name": "stdout",
          "text": [
            "GD-Pangolin\n",
            "{33: tensor([ 0.0261, -0.0281, -0.0530,  ..., -0.0307, -0.0705, -0.0272])}\n",
            "SARS-CoV-1_PC4-137_PC04\n",
            "{33: tensor([ 0.0064, -0.0248, -0.0798,  ..., -0.0482, -0.0354, -0.0502])}\n",
            "RaTG13\n",
            "{33: tensor([ 0.0063, -0.0141, -0.0844,  ..., -0.0330, -0.0599, -0.0377])}\n",
            "SARS-CoV-2\n",
            "{33: tensor([ 0.0224, -0.0117, -0.0591,  ..., -0.0322, -0.0758, -0.0261])}\n",
            "Rs7327\n",
            "{33: tensor([ 0.0082, -0.0257, -0.0588,  ..., -0.0348, -0.0495, -0.0406])}\n",
            "AncSARS2a_MAP\n",
            "{33: tensor([ 0.0359, -0.0191, -0.0611,  ..., -0.0384, -0.0611, -0.0403])}\n",
            "BM48-31\n",
            "{33: tensor([ 0.0467, -0.0302, -0.0562,  ..., -0.0146, -0.0907, -0.0511])}\n",
            "SARS-CoV-1_Urbani_HP03L\n",
            "{33: tensor([ 0.0076, -0.0189, -0.0704,  ..., -0.0407, -0.0424, -0.0426])}\n",
            "AncSARS2c_MAP\n",
            "{33: tensor([ 0.0261, -0.0249, -0.0607,  ..., -0.0385, -0.0698, -0.0339])}\n",
            "AncSARS1a_MAP\n",
            "{33: tensor([-0.0324, -0.0559, -0.0650,  ..., -0.0284, -0.0549, -0.1151])}\n",
            "AncAsia_MAP\n",
            "{33: tensor([ 0.0361, -0.0178, -0.0582,  ..., -0.0418, -0.0524, -0.0402])}\n",
            "AncClade2_MAP\n",
            "{33: tensor([ 0.0406, -0.0294, -0.0611,  ..., -0.0142, -0.0768, -0.0542])}\n",
            "AncSarbecovirus_MAP\n",
            "{33: tensor([ 0.0265, -0.0332, -0.0556,  ..., -0.0262, -0.0604, -0.0720])}\n",
            "BtKY72\n",
            "{33: tensor([ 0.0296, -0.0303, -0.0700,  ..., -0.0195, -0.0567, -0.0671])}\n",
            "Mustela_lutreola_ACE2_QNC68911\n",
            "{33: tensor([ 0.0513, -0.0434, -0.0499,  ..., -0.1078, -0.0149,  0.0682])}\n",
            "R_affinis_9476\n",
            "{33: tensor([ 0.0467, -0.0617, -0.0435,  ..., -0.0993, -0.0088,  0.0612])}\n",
            "R_affinis_9490\n",
            "{33: tensor([ 0.0458, -0.0611, -0.0437,  ..., -0.1005, -0.0076,  0.0584])}\n",
            "R_sinicus_1449_Guangdong_allele8\n",
            "{33: tensor([ 0.0447, -0.0649, -0.0522,  ..., -0.0999, -0.0067,  0.0629])}\n",
            "R_sinicus_1438_Guangdong_allele8\n",
            "{33: tensor([ 0.0447, -0.0649, -0.0522,  ..., -0.0999, -0.0067,  0.0629])}\n",
            "R_sinicus_411_Guangxi_allele8_GQ999933\n",
            "{33: tensor([ 0.0453, -0.0653, -0.0539,  ..., -0.0996, -0.0097,  0.0624])}\n",
            "R_affinis_9495\n",
            "{33: tensor([ 0.0467, -0.0617, -0.0435,  ..., -0.0993, -0.0088,  0.0612])}\n",
            "R_sinicus_3364_Yunnan_allele1\n",
            "{33: tensor([ 0.0468, -0.0627, -0.0500,  ..., -0.0973, -0.0077,  0.0655])}\n",
            "R_sinicus_5720_Yunnan_allele2\n",
            "{33: tensor([ 0.0475, -0.0648, -0.0496,  ..., -0.1010, -0.0080,  0.0629])}\n",
            "R_affinis_9473\n",
            "{33: tensor([ 0.0467, -0.0617, -0.0435,  ..., -0.0993, -0.0088,  0.0612])}\n",
            "R_affinis_9491\n",
            "{33: tensor([ 0.0467, -0.0617, -0.0435,  ..., -0.0993, -0.0088,  0.0612])}\n",
            "RaccoonDog_ACE2_ABW16956\n",
            "{33: tensor([ 0.0590, -0.0518, -0.0481,  ..., -0.1041, -0.0175,  0.0613])}\n",
            "R_affinis_787\n",
            "{33: tensor([ 0.0467, -0.0617, -0.0435,  ..., -0.0993, -0.0088,  0.0612])}\n",
            "Human_ACE2_NP001358344\n",
            "{33: tensor([ 0.0508, -0.0604, -0.0513,  ..., -0.0982, -0.0180,  0.0772])}\n",
            "R_sinicus_3358_Yunnan_allele7\n",
            "{33: tensor([ 0.0478, -0.0655, -0.0510,  ..., -0.0970, -0.0094,  0.0669])}\n",
            "R_affinis_9470\n",
            "{33: tensor([ 0.0467, -0.0617, -0.0435,  ..., -0.0993, -0.0088,  0.0612])}\n",
            "R_sinicus_WJ6_Hubei_allele5\n",
            "{33: tensor([ 0.0445, -0.0627, -0.0498,  ..., -0.1010, -0.0058,  0.0638])}\n",
            "R_sinicus_3366_Yunnan_allele4\n",
            "{33: tensor([ 0.0489, -0.0633, -0.0492,  ..., -0.0973, -0.0094,  0.0667])}\n",
            "R_affinis_9496\n",
            "{33: tensor([ 0.0467, -0.0617, -0.0435,  ..., -0.0993, -0.0088,  0.0612])}\n",
            "R_affinis_5538\n",
            "{33: tensor([ 0.0467, -0.0617, -0.0435,  ..., -0.0993, -0.0088,  0.0612])}\n",
            "R_sinicus_832_Hubei_allele4_GQ999936\n",
            "{33: tensor([ 0.0440, -0.0634, -0.0507,  ..., -0.1025, -0.0060,  0.0613])}\n",
            "R_sinicus_WJ1_Hubei_allele5\n",
            "{33: tensor([ 0.0456, -0.0631, -0.0500,  ..., -0.1003, -0.0060,  0.0638])}\n",
            "R_sinicus_3359_Yunnan_allele1\n",
            "{33: tensor([ 0.0476, -0.0629, -0.0498,  ..., -0.0961, -0.0085,  0.0665])}\n",
            "Neovison_vison_ACE2partial_HAAF01014901\n",
            "{33: tensor([ 0.0781, -0.0399, -0.0837,  ..., -0.0827, -0.0534,  0.0505])}\n",
            "R_sinicus_1446_Guangdong_allele4\n",
            "{33: tensor([ 0.0465, -0.0635, -0.0489,  ..., -0.0997, -0.0070,  0.0644])}\n",
            "R_affinis_4331\n",
            "{33: tensor([ 0.0449, -0.0600, -0.0450,  ..., -0.1031, -0.0077,  0.0596])}\n",
            "R_sinicus_1448_Guangdong_allele4\n",
            "{33: tensor([ 0.0463, -0.0631, -0.0497,  ..., -0.1003, -0.0068,  0.0638])}\n",
            "R_sinicus_3362_Yunnan_allele1\n",
            "{33: tensor([ 0.0476, -0.0629, -0.0498,  ..., -0.0961, -0.0085,  0.0665])}\n",
            "Pangolin_ACE2_XP017505746\n",
            "{33: tensor([ 0.0477, -0.0602, -0.0599,  ..., -0.1004, -0.0132,  0.0648])}\n",
            "Mouse_ACE2_NP001123985\n",
            "{33: tensor([ 0.0552, -0.0543, -0.0560,  ..., -0.1079, -0.0183,  0.0739])}\n",
            "R_ferrumequinum_ACE2_ADN93470_Houetal\n",
            "{33: tensor([ 0.0471, -0.0660, -0.0494,  ..., -0.0992, -0.0143,  0.0600])}\n",
            "R_sinicus_1450_Guangdong_allele8\n",
            "{33: tensor([ 0.0452, -0.0646, -0.0517,  ..., -0.0978, -0.0081,  0.0627])}\n",
            "R_sinicus_1455_Guangdong_allele4\n",
            "{33: tensor([ 0.0465, -0.0635, -0.0489,  ..., -0.0997, -0.0070,  0.0644])}\n",
            "R_affinis_9488\n",
            "{33: tensor([ 0.0467, -0.0617, -0.0435,  ..., -0.0993, -0.0088,  0.0612])}\n",
            "R_sinicus_WJ4_Hubei_allele2\n",
            "{33: tensor([ 0.0475, -0.0648, -0.0496,  ..., -0.1010, -0.0080,  0.0629])}\n",
            "R_pearsonii_ACE2_ABU54053\n",
            "{33: tensor([ 0.0370, -0.0635, -0.0494,  ..., -0.0993, -0.0053,  0.0632])}\n",
            "R_affinis_9493\n",
            "{33: tensor([ 0.0467, -0.0617, -0.0435,  ..., -0.0993, -0.0088,  0.0612])}\n",
            "R_affinis_9494\n",
            "{33: tensor([ 0.0464, -0.0621, -0.0433,  ..., -0.0984, -0.0102,  0.0612])}\n",
            "R_sinicus_5718_Yunnan_allele1\n",
            "{33: tensor([ 0.0473, -0.0627, -0.0496,  ..., -0.0979, -0.0080,  0.0650])}\n",
            "R_sinicus_984_Hubei_allele5\n",
            "{33: tensor([ 0.0445, -0.0627, -0.0498,  ..., -0.1010, -0.0058,  0.0638])}\n",
            "R_landeri_ACE2_ALJ94034\n",
            "{33: tensor([ 0.0414, -0.0630, -0.0506,  ..., -0.0993, -0.0146,  0.0643])}\n",
            "R_affinis_9501\n",
            "{33: tensor([ 0.0468, -0.0624, -0.0424,  ..., -0.0999, -0.0099,  0.0625])}\n",
            "Civet_ACE2_Q56NL1\n",
            "{33: tensor([ 0.0513, -0.0555, -0.0516,  ..., -0.1029, -0.0176,  0.0775])}\n",
            "R_macrotis_ACE2_ADN93471\n",
            "{33: tensor([ 0.0444, -0.0636, -0.0497,  ..., -0.1022, -0.0077,  0.0602])}\n",
            "R_affinis_9486\n",
            "{33: tensor([ 0.0449, -0.0600, -0.0450,  ..., -0.1031, -0.0077,  0.0596])}\n",
            "R_sinicus_1433_Guangdong_allele4\n",
            "{33: tensor([ 0.0457, -0.0636, -0.0497,  ..., -0.1011, -0.0063,  0.0643])}\n",
            "R_affinis_9479\n",
            "{33: tensor([ 0.0431, -0.0607, -0.0453,  ..., -0.1014, -0.0063,  0.0595])}\n",
            "R_affinis_9508\n",
            "{33: tensor([ 0.0467, -0.0617, -0.0435,  ..., -0.0993, -0.0088,  0.0612])}\n",
            "R_sinicus_1443_Guangdong_allele4\n",
            "{33: tensor([ 0.0465, -0.0635, -0.0489,  ..., -0.0997, -0.0070,  0.0644])}\n",
            "R_pusillus_ACE2_ADN93477\n",
            "{33: tensor([ 0.0467, -0.0594, -0.0460,  ..., -0.1059, -0.0071,  0.0662])}\n",
            "R_sinicus_3357_Yunnan_allele7_KC881004\n",
            "{33: tensor([ 0.0480, -0.0657, -0.0519,  ..., -0.0971, -0.0094,  0.0660])}\n",
            "R_affinis_9482\n",
            "{33: tensor([ 0.0467, -0.0617, -0.0435,  ..., -0.0993, -0.0088,  0.0612])}\n",
            "Neovison_vison_ACE2_MW269526\n",
            "{33: tensor([ 0.0498, -0.0434, -0.0536,  ..., -0.1071, -0.0144,  0.0646])}\n",
            "R_sinicus_1434_Guangdong_allele6\n",
            "{33: tensor([ 0.0464, -0.0636, -0.0489,  ..., -0.1000, -0.0072,  0.0653])}\n",
            "R_sinicus_ACT66275.1_HongKong_allele3_GQ262791\n",
            "{33: tensor([ 0.0481, -0.0648, -0.0483,  ..., -0.1020, -0.0081,  0.0639])}\n",
            "R_affinis_9497\n",
            "{33: tensor([ 0.0467, -0.0617, -0.0435,  ..., -0.0993, -0.0088,  0.0612])}\n",
            "R_alcyone_ACE2_ALJ94035\n",
            "{33: tensor([ 0.0425, -0.0623, -0.0521,  ..., -0.0994, -0.0133,  0.0624])}\n",
            "R_affinis_9489\n",
            "{33: tensor([ 0.0467, -0.0617, -0.0435,  ..., -0.0993, -0.0088,  0.0612])}\n",
            "R_sinicus_WJ2_Hubei_allele5\n",
            "{33: tensor([ 0.0445, -0.0627, -0.0498,  ..., -0.1010, -0.0058,  0.0638])}\n",
            "R_affinis_9492\n",
            "{33: tensor([ 0.0467, -0.0617, -0.0435,  ..., -0.0993, -0.0088,  0.0612])}\n",
            "R_affinis_9500\n",
            "{33: tensor([ 0.0463, -0.0616, -0.0435,  ..., -0.1001, -0.0084,  0.0622])}\n",
            "R_affinis_9498\n",
            "{33: tensor([ 0.0463, -0.0616, -0.0435,  ..., -0.1001, -0.0084,  0.0622])}\n"
          ]
        }
      ]
    },
    {
      "cell_type": "code",
      "source": [
        "# Specify the folders containing the .pt files\n",
        "folder_paths = ['/content/coordoutputRBD.fasta', '/content/coordoutputACE2.fasta']\n",
        "\n",
        "formatted_dict = {}\n",
        "\n",
        "# Iterate over each folder\n",
        "for folder_path in folder_paths:\n",
        "    # List all files in the folder with .pt extension\n",
        "    pt_files = [f for f in os.listdir(folder_path) if f.endswith('.pt')]\n",
        "\n",
        "    # Iterate over each .pt file in the current folder\n",
        "    for file_name in pt_files:\n",
        "        # Construct the full path to the file\n",
        "        file_path = os.path.join(folder_path, file_name)\n",
        "\n",
        "        # Load the model using torch.load\n",
        "        model_dict = torch.load(file_path, map_location=torch.device('cpu'))\n",
        "\n",
        "        # Extract label and tensor values\n",
        "        label = model_dict['label']\n",
        "        tensor_values = model_dict['mean_representations'][33].numpy()\n",
        "\n",
        "        # Include the first three and last three numbers in the tensor\n",
        "        first_three = ','.join(map(str, tensor_values[:3]))\n",
        "        last_three = ','.join(map(str, tensor_values[-3:]))\n",
        "        formatted_dict[label] = f'{first_three} {last_three}'\n",
        "print(formatted_dict)"
      ],
      "metadata": {
        "colab": {
          "base_uri": "https://localhost:8080/"
        },
        "id": "iNDOpSKEtgSP",
        "outputId": "522551c7-5880-4d5b-96b5-608ef37bff7b"
      },
      "id": "iNDOpSKEtgSP",
      "execution_count": 7,
      "outputs": [
        {
          "output_type": "stream",
          "name": "stdout",
          "text": [
            "{'GD-Pangolin': '0.02613955,-0.02813793,-0.053003557 -0.0306876,-0.0704816,-0.027157158', 'SARS-CoV-1_PC4-137_PC04': '0.0064305943,-0.024829453,-0.07980017 -0.04821357,-0.035376027,-0.05023123', 'RaTG13': '0.0062999446,-0.014084336,-0.084428184 -0.033009015,-0.059891574,-0.037733473', 'SARS-CoV-2': '0.022413155,-0.011717588,-0.059060603 -0.032238685,-0.075829074,-0.02612066', 'Rs7327': '0.00818473,-0.025745649,-0.058836233 -0.03479355,-0.049494307,-0.04055334', 'AncSARS2a_MAP': '0.035894725,-0.019097477,-0.061080266 -0.038425736,-0.061066203,-0.0403473', 'BM48-31': '0.04666289,-0.030151362,-0.05622057 -0.014586593,-0.0907113,-0.051075354', 'SARS-CoV-1_Urbani_HP03L': '0.00760287,-0.018901302,-0.07042486 -0.040663492,-0.042407922,-0.04255275', 'AncSARS2c_MAP': '0.026069278,-0.024882397,-0.060680624 -0.038499042,-0.0697849,-0.03388014', 'AncSARS1a_MAP': '-0.032351878,-0.0559463,-0.06501481 -0.028435616,-0.05491547,-0.11509451', 'AncAsia_MAP': '0.036096375,-0.017799782,-0.058247004 -0.04177695,-0.052415904,-0.040235203', 'AncClade2_MAP': '0.040610984,-0.029448798,-0.061057765 -0.01423902,-0.076828934,-0.054245044', 'AncSarbecovirus_MAP': '0.026469838,-0.03317457,-0.0556373 -0.026194967,-0.06041041,-0.071998134', 'BtKY72': '0.029604893,-0.030271325,-0.0699898 -0.01952383,-0.056701336,-0.067072734', 'Mustela_lutreola_ACE2_QNC68911': '0.051311236,-0.04337969,-0.049851436 -0.10775251,-0.014914701,0.068230085', 'R_affinis_9476': '0.04669489,-0.061690465,-0.04348991 -0.099298485,-0.008802739,0.061173424', 'R_affinis_9490': '0.04578606,-0.06112936,-0.043744247 -0.100525446,-0.0076030144,0.058432817', 'R_sinicus_1449_Guangdong_allele8': '0.044693444,-0.06490785,-0.052191786 -0.099941246,-0.0067103766,0.062934875', 'R_sinicus_1438_Guangdong_allele8': '0.044693444,-0.06490785,-0.052191786 -0.099941246,-0.0067103766,0.062934875', 'R_sinicus_411_Guangxi_allele8_GQ999933': '0.045281556,-0.06528459,-0.053902403 -0.099579066,-0.009716403,0.062376086', 'R_affinis_9495': '0.04669489,-0.061690465,-0.04348991 -0.099298485,-0.008802739,0.061173424', 'R_sinicus_3364_Yunnan_allele1': '0.046834018,-0.06272212,-0.04997326 -0.097338244,-0.007679773,0.06554351', 'R_sinicus_5720_Yunnan_allele2': '0.04745759,-0.06480258,-0.049559187 -0.10102307,-0.00800444,0.06291149', 'R_affinis_9473': '0.04669489,-0.061690465,-0.04348991 -0.099298485,-0.008802739,0.061173424', 'R_affinis_9491': '0.04669489,-0.061690465,-0.04348991 -0.099298485,-0.008802739,0.061173424', 'RaccoonDog_ACE2_ABW16956': '0.05895321,-0.051848505,-0.04813736 -0.104144365,-0.017508684,0.061271563', 'R_affinis_787': '0.04669489,-0.061690465,-0.04348991 -0.099298485,-0.008802739,0.061173424', 'Human_ACE2_NP001358344': '0.050806314,-0.060433708,-0.051310044 -0.09823691,-0.01795566,0.07718655', 'R_sinicus_3358_Yunnan_allele7': '0.047808886,-0.065477125,-0.050978877 -0.096991144,-0.009350306,0.06689959', 'R_affinis_9470': '0.04669489,-0.061690465,-0.04348991 -0.099298485,-0.008802739,0.061173424', 'R_sinicus_WJ6_Hubei_allele5': '0.044506297,-0.06268306,-0.04976838 -0.10097626,-0.0057854387,0.06380564', 'R_sinicus_3366_Yunnan_allele4': '0.04894318,-0.06330284,-0.04920595 -0.0973292,-0.009352113,0.06671858', 'R_affinis_9496': '0.04669489,-0.061690465,-0.04348991 -0.099298485,-0.008802739,0.061173424', 'R_affinis_5538': '0.04669489,-0.061690465,-0.04348991 -0.099298485,-0.008802739,0.061173424', 'R_sinicus_832_Hubei_allele4_GQ999936': '0.044011958,-0.06339745,-0.050705478 -0.102458164,-0.00599337,0.061316483', 'R_sinicus_WJ1_Hubei_allele5': '0.04557237,-0.06307582,-0.049994968 -0.10034031,-0.0060260063,0.063793845', 'R_sinicus_3359_Yunnan_allele1': '0.04762127,-0.06288325,-0.04981228 -0.09609189,-0.00848957,0.066477925', 'Neovison_vison_ACE2partial_HAAF01014901': '0.07808074,-0.03990567,-0.08367276 -0.08271517,-0.053442203,0.05046645', 'R_sinicus_1446_Guangdong_allele4': '0.046468325,-0.063499786,-0.048909944 -0.09970737,-0.0069569335,0.06442088', 'R_affinis_4331': '0.04493355,-0.059963256,-0.04499495 -0.103106335,-0.007696564,0.059599634', 'R_sinicus_1448_Guangdong_allele4': '0.046250362,-0.06305857,-0.049734946 -0.10034123,-0.006803573,0.06380237', 'R_sinicus_3362_Yunnan_allele1': '0.04762127,-0.06288325,-0.04981228 -0.09609189,-0.00848957,0.066477925', 'Pangolin_ACE2_XP017505746': '0.04767351,-0.06019687,-0.05990505 -0.100366905,-0.013228359,0.06478976', 'Mouse_ACE2_NP001123985': '0.05519344,-0.05431307,-0.05598267 -0.107870474,-0.018280031,0.07387721', 'R_ferrumequinum_ACE2_ADN93470_Houetal': '0.04713501,-0.06602823,-0.049373258 -0.099167906,-0.014339456,0.059987843', 'R_sinicus_1450_Guangdong_allele8': '0.045232244,-0.06460569,-0.051700953 -0.09777516,-0.008062013,0.06267339', 'R_sinicus_1455_Guangdong_allele4': '0.046468325,-0.063499786,-0.048909944 -0.09970737,-0.0069569335,0.06442088', 'R_affinis_9488': '0.04669489,-0.061690465,-0.04348991 -0.099298485,-0.008802739,0.061173424', 'R_sinicus_WJ4_Hubei_allele2': '0.04745759,-0.06480258,-0.049559187 -0.10102307,-0.00800444,0.06291149', 'R_pearsonii_ACE2_ABU54053': '0.03699797,-0.063471645,-0.049405187 -0.09932403,-0.005287739,0.06315579', 'R_affinis_9493': '0.04669489,-0.061690465,-0.04348991 -0.099298485,-0.008802739,0.061173424', 'R_affinis_9494': '0.046421774,-0.06213329,-0.043271128 -0.09838683,-0.010187212,0.061183948', 'R_sinicus_5718_Yunnan_allele1': '0.0473003,-0.0626932,-0.04964394 -0.097864866,-0.008002878,0.06504707', 'R_sinicus_984_Hubei_allele5': '0.044506297,-0.06268306,-0.04976838 -0.10097626,-0.0057854387,0.06380564', 'R_landeri_ACE2_ALJ94034': '0.041410536,-0.06296711,-0.050580956 -0.09930657,-0.014618241,0.06431521', 'R_affinis_9501': '0.04682442,-0.06241055,-0.042378742 -0.09990839,-0.009919025,0.06247982', 'Civet_ACE2_Q56NL1': '0.05130617,-0.055534456,-0.051642764 -0.10294882,-0.01758095,0.077482596', 'R_macrotis_ACE2_ADN93471': '0.04440127,-0.063609995,-0.0496796 -0.10224872,-0.0077063115,0.060172413', 'R_affinis_9486': '0.04493355,-0.059963256,-0.04499495 -0.103106335,-0.007696564,0.059599634', 'R_sinicus_1433_Guangdong_allele4': '0.04571085,-0.06362435,-0.049715 -0.10108154,-0.006303357,0.06430741', 'R_affinis_9479': '0.04313495,-0.060657818,-0.0453105 -0.10139541,-0.0063207867,0.059512213', 'R_affinis_9508': '0.04669489,-0.061690465,-0.04348991 -0.099298485,-0.008802739,0.061173424', 'R_sinicus_1443_Guangdong_allele4': '0.046468325,-0.063499786,-0.048909944 -0.09970737,-0.0069569335,0.06442088', 'R_pusillus_ACE2_ADN93477': '0.04669424,-0.059362262,-0.046001505 -0.1058821,-0.0070932754,0.06624111', 'R_sinicus_3357_Yunnan_allele7_KC881004': '0.047981326,-0.06570662,-0.051882036 -0.097106434,-0.009361819,0.06597969', 'R_affinis_9482': '0.04669489,-0.061690465,-0.04348991 -0.099298485,-0.008802739,0.061173424', 'Neovison_vison_ACE2_MW269526': '0.04977468,-0.043368377,-0.053581018 -0.10712401,-0.014379156,0.06461095', 'R_sinicus_1434_Guangdong_allele6': '0.046375383,-0.06363791,-0.04887313 -0.10004036,-0.0072458633,0.0652812', 'R_sinicus_ACT66275.1_HongKong_allele3_GQ262791': '0.048067555,-0.0647693,-0.048261307 -0.10200166,-0.008116697,0.06388159', 'R_affinis_9497': '0.04669489,-0.061690465,-0.04348991 -0.099298485,-0.008802739,0.061173424', 'R_alcyone_ACE2_ALJ94035': '0.042474158,-0.06233677,-0.052137613 -0.09935608,-0.0132907005,0.062433656', 'R_affinis_9489': '0.04669489,-0.061690465,-0.04348991 -0.099298485,-0.008802739,0.061173424', 'R_sinicus_WJ2_Hubei_allele5': '0.044506297,-0.06268306,-0.04976838 -0.10097626,-0.0057854387,0.06380564', 'R_affinis_9492': '0.04669489,-0.061690465,-0.04348991 -0.099298485,-0.008802739,0.061173424', 'R_affinis_9500': '0.04632019,-0.061602127,-0.043501217 -0.100120835,-0.008374643,0.062232193', 'R_affinis_9498': '0.04632019,-0.061602127,-0.043501217 -0.100120835,-0.008374643,0.062232193'}\n"
          ]
        }
      ]
    },
    {
      "cell_type": "code",
      "source": [
        "formatted_dict[label] = f'{first_three} {last_three}'\n",
        "for key, value in formatted_dict.items():\n",
        "    print(f'{key}: {value}')"
      ],
      "metadata": {
        "colab": {
          "base_uri": "https://localhost:8080/"
        },
        "id": "KRsuoMHkeTM0",
        "outputId": "f0843820-8e45-4d1f-8957-7ef41ea9ed8e"
      },
      "id": "KRsuoMHkeTM0",
      "execution_count": 8,
      "outputs": [
        {
          "output_type": "stream",
          "name": "stdout",
          "text": [
            "GD-Pangolin: 0.02613955,-0.02813793,-0.053003557 -0.0306876,-0.0704816,-0.027157158\n",
            "SARS-CoV-1_PC4-137_PC04: 0.0064305943,-0.024829453,-0.07980017 -0.04821357,-0.035376027,-0.05023123\n",
            "RaTG13: 0.0062999446,-0.014084336,-0.084428184 -0.033009015,-0.059891574,-0.037733473\n",
            "SARS-CoV-2: 0.022413155,-0.011717588,-0.059060603 -0.032238685,-0.075829074,-0.02612066\n",
            "Rs7327: 0.00818473,-0.025745649,-0.058836233 -0.03479355,-0.049494307,-0.04055334\n",
            "AncSARS2a_MAP: 0.035894725,-0.019097477,-0.061080266 -0.038425736,-0.061066203,-0.0403473\n",
            "BM48-31: 0.04666289,-0.030151362,-0.05622057 -0.014586593,-0.0907113,-0.051075354\n",
            "SARS-CoV-1_Urbani_HP03L: 0.00760287,-0.018901302,-0.07042486 -0.040663492,-0.042407922,-0.04255275\n",
            "AncSARS2c_MAP: 0.026069278,-0.024882397,-0.060680624 -0.038499042,-0.0697849,-0.03388014\n",
            "AncSARS1a_MAP: -0.032351878,-0.0559463,-0.06501481 -0.028435616,-0.05491547,-0.11509451\n",
            "AncAsia_MAP: 0.036096375,-0.017799782,-0.058247004 -0.04177695,-0.052415904,-0.040235203\n",
            "AncClade2_MAP: 0.040610984,-0.029448798,-0.061057765 -0.01423902,-0.076828934,-0.054245044\n",
            "AncSarbecovirus_MAP: 0.026469838,-0.03317457,-0.0556373 -0.026194967,-0.06041041,-0.071998134\n",
            "BtKY72: 0.029604893,-0.030271325,-0.0699898 -0.01952383,-0.056701336,-0.067072734\n",
            "Mustela_lutreola_ACE2_QNC68911: 0.051311236,-0.04337969,-0.049851436 -0.10775251,-0.014914701,0.068230085\n",
            "R_affinis_9476: 0.04669489,-0.061690465,-0.04348991 -0.099298485,-0.008802739,0.061173424\n",
            "R_affinis_9490: 0.04578606,-0.06112936,-0.043744247 -0.100525446,-0.0076030144,0.058432817\n",
            "R_sinicus_1449_Guangdong_allele8: 0.044693444,-0.06490785,-0.052191786 -0.099941246,-0.0067103766,0.062934875\n",
            "R_sinicus_1438_Guangdong_allele8: 0.044693444,-0.06490785,-0.052191786 -0.099941246,-0.0067103766,0.062934875\n",
            "R_sinicus_411_Guangxi_allele8_GQ999933: 0.045281556,-0.06528459,-0.053902403 -0.099579066,-0.009716403,0.062376086\n",
            "R_affinis_9495: 0.04669489,-0.061690465,-0.04348991 -0.099298485,-0.008802739,0.061173424\n",
            "R_sinicus_3364_Yunnan_allele1: 0.046834018,-0.06272212,-0.04997326 -0.097338244,-0.007679773,0.06554351\n",
            "R_sinicus_5720_Yunnan_allele2: 0.04745759,-0.06480258,-0.049559187 -0.10102307,-0.00800444,0.06291149\n",
            "R_affinis_9473: 0.04669489,-0.061690465,-0.04348991 -0.099298485,-0.008802739,0.061173424\n",
            "R_affinis_9491: 0.04669489,-0.061690465,-0.04348991 -0.099298485,-0.008802739,0.061173424\n",
            "RaccoonDog_ACE2_ABW16956: 0.05895321,-0.051848505,-0.04813736 -0.104144365,-0.017508684,0.061271563\n",
            "R_affinis_787: 0.04669489,-0.061690465,-0.04348991 -0.099298485,-0.008802739,0.061173424\n",
            "Human_ACE2_NP001358344: 0.050806314,-0.060433708,-0.051310044 -0.09823691,-0.01795566,0.07718655\n",
            "R_sinicus_3358_Yunnan_allele7: 0.047808886,-0.065477125,-0.050978877 -0.096991144,-0.009350306,0.06689959\n",
            "R_affinis_9470: 0.04669489,-0.061690465,-0.04348991 -0.099298485,-0.008802739,0.061173424\n",
            "R_sinicus_WJ6_Hubei_allele5: 0.044506297,-0.06268306,-0.04976838 -0.10097626,-0.0057854387,0.06380564\n",
            "R_sinicus_3366_Yunnan_allele4: 0.04894318,-0.06330284,-0.04920595 -0.0973292,-0.009352113,0.06671858\n",
            "R_affinis_9496: 0.04669489,-0.061690465,-0.04348991 -0.099298485,-0.008802739,0.061173424\n",
            "R_affinis_5538: 0.04669489,-0.061690465,-0.04348991 -0.099298485,-0.008802739,0.061173424\n",
            "R_sinicus_832_Hubei_allele4_GQ999936: 0.044011958,-0.06339745,-0.050705478 -0.102458164,-0.00599337,0.061316483\n",
            "R_sinicus_WJ1_Hubei_allele5: 0.04557237,-0.06307582,-0.049994968 -0.10034031,-0.0060260063,0.063793845\n",
            "R_sinicus_3359_Yunnan_allele1: 0.04762127,-0.06288325,-0.04981228 -0.09609189,-0.00848957,0.066477925\n",
            "Neovison_vison_ACE2partial_HAAF01014901: 0.07808074,-0.03990567,-0.08367276 -0.08271517,-0.053442203,0.05046645\n",
            "R_sinicus_1446_Guangdong_allele4: 0.046468325,-0.063499786,-0.048909944 -0.09970737,-0.0069569335,0.06442088\n",
            "R_affinis_4331: 0.04493355,-0.059963256,-0.04499495 -0.103106335,-0.007696564,0.059599634\n",
            "R_sinicus_1448_Guangdong_allele4: 0.046250362,-0.06305857,-0.049734946 -0.10034123,-0.006803573,0.06380237\n",
            "R_sinicus_3362_Yunnan_allele1: 0.04762127,-0.06288325,-0.04981228 -0.09609189,-0.00848957,0.066477925\n",
            "Pangolin_ACE2_XP017505746: 0.04767351,-0.06019687,-0.05990505 -0.100366905,-0.013228359,0.06478976\n",
            "Mouse_ACE2_NP001123985: 0.05519344,-0.05431307,-0.05598267 -0.107870474,-0.018280031,0.07387721\n",
            "R_ferrumequinum_ACE2_ADN93470_Houetal: 0.04713501,-0.06602823,-0.049373258 -0.099167906,-0.014339456,0.059987843\n",
            "R_sinicus_1450_Guangdong_allele8: 0.045232244,-0.06460569,-0.051700953 -0.09777516,-0.008062013,0.06267339\n",
            "R_sinicus_1455_Guangdong_allele4: 0.046468325,-0.063499786,-0.048909944 -0.09970737,-0.0069569335,0.06442088\n",
            "R_affinis_9488: 0.04669489,-0.061690465,-0.04348991 -0.099298485,-0.008802739,0.061173424\n",
            "R_sinicus_WJ4_Hubei_allele2: 0.04745759,-0.06480258,-0.049559187 -0.10102307,-0.00800444,0.06291149\n",
            "R_pearsonii_ACE2_ABU54053: 0.03699797,-0.063471645,-0.049405187 -0.09932403,-0.005287739,0.06315579\n",
            "R_affinis_9493: 0.04669489,-0.061690465,-0.04348991 -0.099298485,-0.008802739,0.061173424\n",
            "R_affinis_9494: 0.046421774,-0.06213329,-0.043271128 -0.09838683,-0.010187212,0.061183948\n",
            "R_sinicus_5718_Yunnan_allele1: 0.0473003,-0.0626932,-0.04964394 -0.097864866,-0.008002878,0.06504707\n",
            "R_sinicus_984_Hubei_allele5: 0.044506297,-0.06268306,-0.04976838 -0.10097626,-0.0057854387,0.06380564\n",
            "R_landeri_ACE2_ALJ94034: 0.041410536,-0.06296711,-0.050580956 -0.09930657,-0.014618241,0.06431521\n",
            "R_affinis_9501: 0.04682442,-0.06241055,-0.042378742 -0.09990839,-0.009919025,0.06247982\n",
            "Civet_ACE2_Q56NL1: 0.05130617,-0.055534456,-0.051642764 -0.10294882,-0.01758095,0.077482596\n",
            "R_macrotis_ACE2_ADN93471: 0.04440127,-0.063609995,-0.0496796 -0.10224872,-0.0077063115,0.060172413\n",
            "R_affinis_9486: 0.04493355,-0.059963256,-0.04499495 -0.103106335,-0.007696564,0.059599634\n",
            "R_sinicus_1433_Guangdong_allele4: 0.04571085,-0.06362435,-0.049715 -0.10108154,-0.006303357,0.06430741\n",
            "R_affinis_9479: 0.04313495,-0.060657818,-0.0453105 -0.10139541,-0.0063207867,0.059512213\n",
            "R_affinis_9508: 0.04669489,-0.061690465,-0.04348991 -0.099298485,-0.008802739,0.061173424\n",
            "R_sinicus_1443_Guangdong_allele4: 0.046468325,-0.063499786,-0.048909944 -0.09970737,-0.0069569335,0.06442088\n",
            "R_pusillus_ACE2_ADN93477: 0.04669424,-0.059362262,-0.046001505 -0.1058821,-0.0070932754,0.06624111\n",
            "R_sinicus_3357_Yunnan_allele7_KC881004: 0.047981326,-0.06570662,-0.051882036 -0.097106434,-0.009361819,0.06597969\n",
            "R_affinis_9482: 0.04669489,-0.061690465,-0.04348991 -0.099298485,-0.008802739,0.061173424\n",
            "Neovison_vison_ACE2_MW269526: 0.04977468,-0.043368377,-0.053581018 -0.10712401,-0.014379156,0.06461095\n",
            "R_sinicus_1434_Guangdong_allele6: 0.046375383,-0.06363791,-0.04887313 -0.10004036,-0.0072458633,0.0652812\n",
            "R_sinicus_ACT66275.1_HongKong_allele3_GQ262791: 0.048067555,-0.0647693,-0.048261307 -0.10200166,-0.008116697,0.06388159\n",
            "R_affinis_9497: 0.04669489,-0.061690465,-0.04348991 -0.099298485,-0.008802739,0.061173424\n",
            "R_alcyone_ACE2_ALJ94035: 0.042474158,-0.06233677,-0.052137613 -0.09935608,-0.0132907005,0.062433656\n",
            "R_affinis_9489: 0.04669489,-0.061690465,-0.04348991 -0.099298485,-0.008802739,0.061173424\n",
            "R_sinicus_WJ2_Hubei_allele5: 0.044506297,-0.06268306,-0.04976838 -0.10097626,-0.0057854387,0.06380564\n",
            "R_affinis_9492: 0.04669489,-0.061690465,-0.04348991 -0.099298485,-0.008802739,0.061173424\n",
            "R_affinis_9500: 0.04632019,-0.061602127,-0.043501217 -0.100120835,-0.008374643,0.062232193\n",
            "R_affinis_9498: 0.04632019,-0.061602127,-0.043501217 -0.100120835,-0.008374643,0.062232193\n"
          ]
        }
      ]
    }
  ],
  "metadata": {
    "accelerator": "GPU",
    "colab": {
      "provenance": [],
      "include_colab_link": true
    },
    "kernelspec": {
      "display_name": "Python 3 (ipykernel)",
      "language": "python",
      "name": "python3"
    },
    "language_info": {
      "codemirror_mode": {
        "name": "ipython",
        "version": 3
      },
      "file_extension": ".py",
      "mimetype": "text/x-python",
      "name": "python",
      "nbconvert_exporter": "python",
      "pygments_lexer": "ipython3",
      "version": "3.9.7"
    }
  },
  "nbformat": 4,
  "nbformat_minor": 5
}