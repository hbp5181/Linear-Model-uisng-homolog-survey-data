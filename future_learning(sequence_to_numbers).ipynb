{
  "cells": [
    {
      "cell_type": "markdown",
      "metadata": {
        "id": "view-in-github",
        "colab_type": "text"
      },
      "source": [
        "<a href=\"https://colab.research.google.com/github/hbp5181/Linear-Model-uisng-homolog-survey-data/blob/main/future_learning(sequence_to_numbers).ipynb\" target=\"_parent\"><img src=\"https://colab.research.google.com/assets/colab-badge.svg\" alt=\"Open In Colab\"/></a>"
      ]
    },
    {
      "cell_type": "markdown",
      "id": "43GQPw7R_ZbY",
      "metadata": {
        "id": "43GQPw7R_ZbY"
      },
      "source": [
        "# Inverse folding with ESM-IF1\n",
        "\n",
        "The ESM-IF1 inverse folding model is built for predicting protein sequences from their backbone atom coordinates. We provide examples here 1) to sample sequence designs for a given structure and 2) to score sequences for a given structure.\n",
        "\n",
        "Trained with 12M protein structures predicted by AlphaFold2, the ESM-IF1 model consists of invariant geometric input processing layers followed by a sequence-to-sequence transformer, and achieves 51% native sequence recovery on structurally held-out backbones. The model is also trained with span masking to tolerate missing backbone coordinates and therefore can predict sequences for partially masked structures.\n",
        "\n",
        "See [GitHub README](https://github.com/facebookresearch/esm/tree/main/examples/inverse_folding) for the complete user guide, and see our [bioRxiv pre-print](https://doi.org/10.1101/2022.04.10.487779) for more details."
      ]
    },
    {
      "cell_type": "markdown",
      "id": "8c6TDUVupgNn",
      "metadata": {
        "id": "8c6TDUVupgNn"
      },
      "source": [
        "## Environment setup (colab)\n",
        "This step might take up to 10 minutes the first time.\n",
        "\n",
        "If using a local jupyter environment, instead of the following, we recommend configuring a conda environment upon first use in command line:\n",
        "```\n",
        "conda create -n inverse python=3.9\n",
        "conda activate inverse\n",
        "conda install pytorch cudatoolkit=11.3 -c pytorch\n",
        "conda install pyg -c pyg -c conda-forge\n",
        "conda install pip\n",
        "pip install biotite\n",
        "pip install git+https://github.com/facebookresearch/esm.git\n",
        "```\n",
        "\n",
        "Afterwards, `conda activate inverse` to activate this environment before starting `jupyter notebook`.\n",
        "\n",
        "Below is the setup for colab notebooks:\n",
        "\n",
        "We recommend using GPU runtimes on colab (Menu bar -> Runtime -> Change runtime type -> Hardware accelerator -> GPU)"
      ]
    },
    {
      "cell_type": "code",
      "execution_count": 109,
      "id": "nLOymXwdwUXo",
      "metadata": {
        "colab": {
          "base_uri": "https://localhost:8080/"
        },
        "id": "nLOymXwdwUXo",
        "outputId": "946f078e-6209-4b21-b746-f4b227e4a890"
      },
      "outputs": [
        {
          "output_type": "stream",
          "name": "stdout",
          "text": [
            "  Installing build dependencies ... \u001b[?25l\u001b[?25hdone\n",
            "  Getting requirements to build wheel ... \u001b[?25l\u001b[?25hdone\n",
            "  Preparing metadata (pyproject.toml) ... \u001b[?25l\u001b[?25hdone\n"
          ]
        }
      ],
      "source": [
        "# Colab environment setup\n",
        "\n",
        "# Install the correct version of Pytorch Geometric.\n",
        "import torch\n",
        "import os\n",
        "\n",
        "def format_pytorch_version(version):\n",
        "  return version.split('+')[0]\n",
        "\n",
        "TORCH_version = torch.__version__\n",
        "TORCH = format_pytorch_version(TORCH_version)\n",
        "\n",
        "def format_cuda_version(version):\n",
        "  return 'cu' + version.replace('.', '')\n",
        "\n",
        "CUDA_version = torch.version.cuda\n",
        "CUDA = format_cuda_version(CUDA_version)\n",
        "\n",
        "!pip install -q torch-scatter -f https://data.pyg.org/whl/torch-{TORCH}+{CUDA}.html\n",
        "!pip install -q torch-sparse -f https://data.pyg.org/whl/torch-{TORCH}+{CUDA}.html\n",
        "!pip install -q torch-cluster -f https://data.pyg.org/whl/torch-{TORCH}+{CUDA}.html\n",
        "!pip install -q torch-spline-conv -f https://data.pyg.org/whl/torch-{TORCH}+{CUDA}.html\n",
        "!pip install -q torch-geometric\n",
        "\n",
        "# Install esm\n",
        "!pip install -q git+https://github.com/facebookresearch/esm.git\n",
        "\n",
        "# Install biotite\n",
        "!pip install -q biotite"
      ]
    },
    {
      "cell_type": "markdown",
      "id": "EhDI4ZIX0Z4w",
      "metadata": {
        "id": "EhDI4ZIX0Z4w"
      },
      "source": [
        "### Verify that pytorch-geometric is correctly installed\n",
        "\n",
        "If the notebook crashes at the import, there is likely an issue with the version of torch_geometric and torch_sparse being incompatible with the torch version."
      ]
    },
    {
      "cell_type": "code",
      "execution_count": null,
      "id": "1-HvBXt1wWPu",
      "metadata": {
        "id": "1-HvBXt1wWPu"
      },
      "outputs": [],
      "source": [
        "## Verify that pytorch-geometric is correctly installed\n",
        "import torch_geometric\n",
        "import torch_sparse\n",
        "from torch_geometric.nn import MessagePassing"
      ]
    },
    {
      "cell_type": "markdown",
      "id": "18544eee",
      "metadata": {
        "id": "18544eee"
      },
      "source": [
        "## Load model\n",
        "This steps takes a few minutes for the model to download.\n",
        "\n",
        "**UPDATE**: It is important to set the model in eval mode through `model = model.eval()` to disable random dropout for optimal performance."
      ]
    },
    {
      "cell_type": "code",
      "execution_count": null,
      "id": "14d8f393",
      "metadata": {
        "colab": {
          "base_uri": "https://localhost:8080/"
        },
        "id": "14d8f393",
        "outputId": "02ad04fd-6b6a-4531-89a8-ebb3d0f4ef15"
      },
      "outputs": [
        {
          "output_type": "stream",
          "name": "stderr",
          "text": [
            "Downloading: \"https://dl.fbaipublicfiles.com/fair-esm/models/esm_if1_gvp4_t16_142M_UR50.pt\" to /root/.cache/torch/hub/checkpoints/esm_if1_gvp4_t16_142M_UR50.pt\n",
            "/usr/local/lib/python3.10/dist-packages/esm/pretrained.py:215: UserWarning: Regression weights not found, predicting contacts will not produce correct results.\n",
            "  warnings.warn(\n"
          ]
        }
      ],
      "source": [
        "import esm\n",
        "model, alphabet = esm.pretrained.esm_if1_gvp4_t16_142M_UR50()\n",
        "model = model.eval()"
      ]
    },
    {
      "cell_type": "markdown",
      "id": "2a6ed9bb",
      "metadata": {
        "id": "2a6ed9bb"
      },
      "source": [
        "## Load structure from PDB or CIF files\n",
        "\n",
        "As an example, let's look at Golgi Casein Kinase, the [PDB Molecule of the Month from January 2022](https://pdb101.rcsb.org/motm/265).\n",
        "\n",
        "Milk is a complex mixture of proteins, fats, and nutrients that provides everything that a growing infant needs. Most of the protein in cow’s milk is casein, whereas human milk has lesser amounts of casein.\n",
        "\n",
        "The Golgi casein kinase (PDB entry 5YH2) adds phosphates to casein and also to many other types of secreted proteins. It is most active as a complex of two similar types of proteins. Fam20C is the catalytic subunit. It binds to casein and transfers a phosphate from ATP to the protein.\n",
        "\n",
        "In this example, let's focus on chain C (the catalytic subunit Fam20C).\n",
        "\n",
        "You may also upload your own CIF or PDB file and specify the chain id."
      ]
    },
    {
      "cell_type": "code",
      "execution_count": null,
      "id": "a8hwuySfBDig",
      "metadata": {
        "colab": {
          "base_uri": "https://localhost:8080/"
        },
        "id": "a8hwuySfBDig",
        "outputId": "9961a39c-259d-4db2-9925-7bb45ae07323"
      },
      "outputs": [
        {
          "output_type": "stream",
          "name": "stdout",
          "text": [
            "--2024-01-16 17:31:55--  https://files.rcsb.org/download/5YH2.cif\n",
            "Resolving files.rcsb.org (files.rcsb.org)... 132.249.213.147\n",
            "Connecting to files.rcsb.org (files.rcsb.org)|132.249.213.147|:443... connected.\n",
            "HTTP request sent, awaiting response... 200 OK\n",
            "Length: unspecified [application/octet-stream]\n",
            "Saving to: ‘data/5YH2.cif’\n",
            "\n",
            "5YH2.cif                [    <=>             ]   1.39M  1.41MB/s    in 1.0s    \n",
            "\n",
            "2024-01-16 17:31:56 (1.41 MB/s) - ‘data/5YH2.cif’ saved [1456779]\n",
            "\n"
          ]
        }
      ],
      "source": [
        "!wget https://files.rcsb.org/download/5YH2.cif -P data/    # save this to the data folder in colab"
      ]
    },
    {
      "cell_type": "markdown",
      "id": "h7EdhncQCWtU",
      "metadata": {
        "id": "h7EdhncQCWtU"
      },
      "source": [
        "Load chain C from this CIF file:"
      ]
    },
    {
      "cell_type": "code",
      "execution_count": null,
      "id": "f4d17649",
      "metadata": {
        "colab": {
          "base_uri": "https://localhost:8080/"
        },
        "id": "f4d17649",
        "outputId": "f84dcb41-053c-4d09-bb3e-db8cc9486750"
      },
      "outputs": [
        {
          "output_type": "stream",
          "name": "stdout",
          "text": [
            "Native sequence:\n",
            "SVLQSLFEHPLYRTVLPDLTEEDTLFNLNAEIRLYPKAASESYPNWLRFHIGINRYELYSRHNPVIAALLRDLLSQKISSVGMKSGGTQLKLIMSFQNYGQALFKPMKQTREQETPPDFFYFSDFERHNAEIAAFHLDRILDFRRVPPVAGRLVNMTREIRDVTRDKKLWRTFFVSPANNICFYGECSYYCSTEHALCGKPDQIEGSLAAFLPDLALAKRKTWRNPWRRSYHKRKKAEWEVDPDYCDEVKQTPPYDRGTRLLDIMDMTIFDFLMGNMDRHHYETFEKFGNDTFIIHLDNGRGFGKHSHDEMSILVPLTQCCRVKRSTYLRLQLLAKEEYKLSSLMEESLLQDRLVPVLIKPHLEALDRRLRLVLKVLSDCVEKDGFSAVVENDLD\n"
          ]
        }
      ],
      "source": [
        "fpath = 'data/5YH2.cif' # .pdb format is also acceptable\n",
        "chain_id = 'C'\n",
        "structure = esm.inverse_folding.util.load_structure(fpath, chain_id)\n",
        "coords, native_seq = esm.inverse_folding.util.extract_coords_from_structure(structure)\n",
        "print('Native sequence:')\n",
        "print(native_seq)"
      ]
    },
    {
      "cell_type": "markdown",
      "id": "2YmG4jc5CCUJ",
      "metadata": {
        "id": "2YmG4jc5CCUJ"
      },
      "source": [
        "Visualize chain C in this CIF file:"
      ]
    },
    {
      "cell_type": "code",
      "execution_count": null,
      "id": "V4BbLME4DbZQ",
      "metadata": {
        "id": "V4BbLME4DbZQ"
      },
      "outputs": [],
      "source": [
        "!pip install -q py3Dmol"
      ]
    },
    {
      "cell_type": "code",
      "execution_count": null,
      "id": "PDUHDRMMBbZu",
      "metadata": {
        "id": "PDUHDRMMBbZu"
      },
      "outputs": [],
      "source": [
        "try:\n",
        "    import py3Dmol\n",
        "\n",
        "    def view_pdb(fpath, chain_id):\n",
        "        with open(fpath) as ifile:\n",
        "            system = \"\".join([x for x in ifile])\n",
        "\n",
        "        view = py3Dmol.view(width=600, height=400)\n",
        "        view.addModelsAsFrames(system)\n",
        "        view.setStyle({'model': -1, 'chain': chain_id}, {\"cartoon\": {'color': 'spectrum'}})\n",
        "        view.zoomTo()\n",
        "        view.show()\n",
        "\n",
        "except ImportError:\n",
        "    def view_pdb(fpath, chain_id):\n",
        "        print(\"Install py3Dmol to visualize, or use pymol\")"
      ]
    },
    {
      "cell_type": "markdown",
      "id": "oKqm6n9HCk4Q",
      "metadata": {
        "id": "oKqm6n9HCk4Q"
      },
      "source": [
        "Sample sequence and calculate sequence recovery:"
      ]
    },
    {
      "cell_type": "markdown",
      "id": "17cb6adc",
      "metadata": {
        "id": "17cb6adc"
      },
      "source": [
        "## Extract encoder output as structure representation\n",
        "The encoder output may also be used as a representation for the structure.\n",
        "\n",
        "For a set of input coordinates with L amino acids, the encoder output will have shape L x 512."
      ]
    },
    {
      "cell_type": "code",
      "execution_count": null,
      "id": "0561236d",
      "metadata": {
        "colab": {
          "base_uri": "https://localhost:8080/"
        },
        "id": "0561236d",
        "outputId": "80cdef82-76d4-4b85-b90a-35223aa317e2"
      },
      "outputs": [
        {
          "output_type": "execute_result",
          "data": {
            "text/plain": [
              "(395, torch.Size([395, 512]))"
            ]
          },
          "metadata": {},
          "execution_count": 8
        }
      ],
      "source": [
        "rep = esm.inverse_folding.util.get_encoder_output(model, alphabet, coords)\n",
        "len(coords), rep.shape"
      ]
    },
    {
      "cell_type": "code",
      "source": [
        "! esm-extract esm2_t33_650M_UR50D /content/RBDs_aa_modified.fasta.txt \\\n",
        "  coordoutputRBD.fasta --repr_layers 33 --include mean\n",
        "! esm-extract esm2_t33_650M_UR50D /content/ACE2_aa_modified.fasta \\\n",
        "  coordoutputACE2.fasta --repr_layers 33 --include mean\n",
        "\n"
      ],
      "metadata": {
        "colab": {
          "base_uri": "https://localhost:8080/"
        },
        "id": "zIV7yWTPG3Bc",
        "outputId": "c89ccb35-48c0-4806-ad56-88819cebc71e"
      },
      "id": "zIV7yWTPG3Bc",
      "execution_count": 101,
      "outputs": [
        {
          "output_type": "stream",
          "name": "stdout",
          "text": [
            "Transferred model to GPU\n",
            "Read /content/RBDs_aa_modified.fasta.txt with 50 sequences\n",
            "Processing 1 of 3 batches (22 sequences)\n",
            "Processing 2 of 3 batches (20 sequences)\n",
            "Processing 3 of 3 batches (8 sequences)\n",
            "Transferred model to GPU\n",
            "Read /content/ACE2_aa_modified.fasta with 62 sequences\n",
            "Processing 1 of 13 batches (5 sequences)\n",
            "Processing 2 of 13 batches (5 sequences)\n",
            "Processing 3 of 13 batches (5 sequences)\n",
            "Processing 4 of 13 batches (5 sequences)\n",
            "Processing 5 of 13 batches (5 sequences)\n",
            "Processing 6 of 13 batches (5 sequences)\n",
            "Processing 7 of 13 batches (5 sequences)\n",
            "Processing 8 of 13 batches (5 sequences)\n",
            "Processing 9 of 13 batches (5 sequences)\n",
            "Processing 10 of 13 batches (5 sequences)\n",
            "Processing 11 of 13 batches (5 sequences)\n",
            "Processing 12 of 13 batches (5 sequences)\n",
            "Processing 13 of 13 batches (2 sequences)\n"
          ]
        }
      ]
    },
    {
      "cell_type": "code",
      "source": [
        "# Specify the folders containing the .pt files\n",
        "folder_paths = ['/content/coordoutputRBD.fasta', '/content/coordoutputACE2.fasta']\n",
        "\n",
        "# Flatten the list of filenames\n",
        "pt_files = [os.path.join(folder, f) for folder in folder_paths for f in os.listdir(folder) if f.endswith('.pt')]\n",
        "\n",
        "# Iterate over each .pt file\n",
        "for file_path in pt_files:\n",
        "    # Load the model using torch.load\n",
        "    model_dict = torch.load(file_path, map_location=torch.device('cpu'))\n",
        "    for key, value in model_dict.items():\n",
        "        print(value)\n"
      ],
      "metadata": {
        "colab": {
          "base_uri": "https://localhost:8080/"
        },
        "id": "aOd1C6URsuIs",
        "outputId": "e0f38dbf-6352-4c2a-8e4b-9f7ad1014f62"
      },
      "id": "aOd1C6URsuIs",
      "execution_count": 108,
      "outputs": [
        {
          "output_type": "stream",
          "name": "stdout",
          "text": [
            "HKU3-13_GQ153548\n",
            "{33: tensor([-0.0023,  0.0154, -0.0488,  ..., -0.0725, -0.0469, -0.0348])}\n",
            "SARS-CoV-1_SZ13_PC03_AY304487\n",
            "{33: tensor([ 0.0076, -0.0209, -0.0638,  ..., -0.0398, -0.0421, -0.0491])}\n",
            "Rs4237_KY417147\n",
            "{33: tensor([ 0.0482,  0.0013, -0.0689,  ..., -0.0579, -0.0728, -0.0399])}\n",
            "SARS-CoV-1_SZ3_PC03_AY304486\n",
            "{33: tensor([ 0.0076, -0.0209, -0.0638,  ..., -0.0398, -0.0421, -0.0491])}\n",
            "SARS-CoV-1_BJ02_HP03M_AY278487\n",
            "{33: tensor([ 0.0056, -0.0186, -0.0681,  ..., -0.0420, -0.0411, -0.0446])}\n",
            "RaTG13_MN996532\n",
            "{33: tensor([ 0.0061, -0.0158, -0.0844,  ..., -0.0339, -0.0621, -0.0375])}\n",
            "SARS-CoV-1_GZ0402_HP04_AY613947\n",
            "{33: tensor([-0.0014, -0.0188, -0.0880,  ..., -0.0590, -0.0344, -0.0368])}\n",
            "Rf1_DQ412042\n",
            "{33: tensor([ 0.0578, -0.0102, -0.0436,  ..., -0.0115, -0.1090, -0.0348])}\n",
            "SARS-CoV-1_GD03T0013_HP04_AY525636\n",
            "{33: tensor([ 0.0019, -0.0249, -0.0739,  ..., -0.0493, -0.0299, -0.0519])}\n",
            "BtKY72_KY352407\n",
            "{33: tensor([ 0.0238, -0.0297, -0.0747,  ..., -0.0162, -0.0626, -0.0680])}\n",
            "SARS-CoV-1_PC4-127_PC04_AY613951\n",
            "{33: tensor([ 0.0071, -0.0175, -0.0807,  ..., -0.0533, -0.0327, -0.0501])}\n",
            "HuB2013_KJ473814\n",
            "{33: tensor([ 0.0249,  0.0074, -0.0635,  ..., -0.0510, -0.0620, -0.0508])}\n",
            "273-2005_DQ648856\n",
            "{33: tensor([ 0.0537, -0.0068, -0.0415,  ..., -0.0112, -0.1110, -0.0335])}\n",
            "WIV1_KF367457\n",
            "{33: tensor([ 0.0200, -0.0030, -0.0844,  ..., -0.0653, -0.0386, -0.0320])}\n",
            "Rf4092_KY417145\n",
            "{33: tensor([ 0.0402, -0.0054, -0.0302,  ..., -0.0195, -0.0910, -0.0322])}\n",
            "Shaanxi2011_JX993987\n",
            "{33: tensor([ 0.0573, -0.0042, -0.0566,  ..., -0.0567, -0.0799, -0.0445])}\n",
            "HKU3-8_GQ153543\n",
            "{33: tensor([ 0.0246,  0.0100, -0.0479,  ..., -0.0464, -0.0648, -0.0416])}\n",
            "SARS-CoV-1_Sino1-11_HP03L_AY485277\n",
            "{33: tensor([ 0.0056, -0.0251, -0.0656,  ..., -0.0374, -0.0424, -0.0475])}\n",
            "BM48-31_NC014470\n",
            "{33: tensor([ 0.0036, -0.0464, -0.0687,  ..., -0.0295, -0.0976, -0.0683])}\n",
            "HeB2013_KJ473812\n",
            "{33: tensor([ 0.0616, -0.0038, -0.0418,  ..., -0.0192, -0.0993, -0.0408])}\n",
            "Rs4081_KY417143\n",
            "{33: tensor([ 0.0419,  0.0058, -0.0713,  ..., -0.0603, -0.0688, -0.0413])}\n",
            "GX2013_KJ473815\n",
            "{33: tensor([ 0.0126,  0.0081, -0.0632,  ..., -0.0553, -0.0567, -0.0413])}\n",
            "SARS-CoV-1_GZ-C_HP03L_AY394979\n",
            "{33: tensor([-0.0030, -0.0184, -0.0714,  ..., -0.0512, -0.0402, -0.0389])}\n",
            "SARS-CoV-1_GD01_HP03L_AY278489\n",
            "{33: tensor([ 0.0136, -0.0171, -0.0623,  ..., -0.0397, -0.0336, -0.0553])}\n",
            "Yunnan2011_JX993988\n",
            "{33: tensor([ 0.0434,  0.0120, -0.0529,  ..., -0.0409, -0.0920, -0.0275])}\n",
            "279-2005_DQ648857\n",
            "{33: tensor([ 0.0669,  0.0115, -0.0623,  ..., -0.0581, -0.0714, -0.0440])}\n",
            "Rp3_DQ071615\n",
            "{33: tensor([ 0.0414,  0.0006, -0.0652,  ..., -0.0467, -0.0792, -0.0356])}\n",
            "SARS-CoV-1_SZ1_PC03_AY304489\n",
            "{33: tensor([ 0.0076, -0.0209, -0.0638,  ..., -0.0398, -0.0421, -0.0491])}\n",
            "Rs4231_KY417146\n",
            "{33: tensor([ 0.0170, -0.0262, -0.0568,  ..., -0.0307, -0.0480, -0.0518])}\n",
            "ZC45_MG772933\n",
            "{33: tensor([ 0.0416, -0.0017, -0.0518,  ..., -0.0257, -0.0910, -0.0325])}\n",
            "Hp-BCoV_Zhejiang_2013_KF636752\n",
            "{33: tensor([ 0.0690, -0.0156, -0.0299,  ..., -0.0731, -0.1014, -0.0461])}\n",
            "SARS-CoV-1_PC4-13_PC04_AY613948\n",
            "{33: tensor([ 0.0074, -0.0159, -0.0812,  ..., -0.0544, -0.0371, -0.0477])}\n",
            "SARS-CoV-1_Sin852_HP03L_AY559082\n",
            "{33: tensor([ 0.0033, -0.0164, -0.0716,  ..., -0.0429, -0.0441, -0.0421])}\n",
            "RmYN02_EPI_ISL_412977\n",
            "{33: tensor([ 0.0401,  0.0016, -0.0494,  ..., -0.0141, -0.0995, -0.0269])}\n",
            "As6526_KY417142\n",
            "{33: tensor([ 0.0535, -0.0028, -0.0701,  ..., -0.0645, -0.0698, -0.0415])}\n",
            "JL2012_KJ473811\n",
            "{33: tensor([ 0.0678, -0.0200, -0.0416,  ..., -0.0011, -0.1091, -0.0364])}\n",
            "Rs7327_KY417151\n",
            "{33: tensor([ 0.0068, -0.0249, -0.0562,  ..., -0.0345, -0.0476, -0.0414])}\n",
            "SARS-CoV-1_Urbani_HP03L_AY278741\n",
            "{33: tensor([ 0.0056, -0.0186, -0.0681,  ..., -0.0420, -0.0411, -0.0446])}\n",
            "WIV16_KT444582\n",
            "{33: tensor([ 0.0200, -0.0030, -0.0844,  ..., -0.0653, -0.0386, -0.0320])}\n",
            "Longquan-140_KF294457\n",
            "{33: tensor([ 0.0152, -0.0057, -0.0612,  ..., -0.0591, -0.0611, -0.0458])}\n",
            "SARS-CoV-1_PC4-137_PC04_AY627045\n",
            "{33: tensor([ 0.0039, -0.0230, -0.0833,  ..., -0.0532, -0.0348, -0.0517])}\n",
            "RsSHC014_KC881005\n",
            "{33: tensor([ 0.0151, -0.0273, -0.0560,  ..., -0.0310, -0.0460, -0.0509])}\n",
            "Rs4247_KY417148\n",
            "{33: tensor([ 0.0207, -0.0012, -0.0734,  ..., -0.0645, -0.0596, -0.0454])}\n",
            "HKU3-1_DQ022305\n",
            "{33: tensor([-0.0023,  0.0154, -0.0488,  ..., -0.0725, -0.0469, -0.0348])}\n",
            "LYRa11_KF569996\n",
            "{33: tensor([ 0.0059, -0.0156, -0.0533,  ..., -0.0427, -0.0453, -0.0367])}\n",
            "ZXC21_MG772934\n",
            "{33: tensor([ 0.0345,  0.0092, -0.0632,  ..., -0.0407, -0.0838, -0.0342])}\n",
            "SARS-CoV-2_MN908947\n",
            "{33: tensor([ 0.0260, -0.0122, -0.0567,  ..., -0.0359, -0.0820, -0.0230])}\n",
            "Rs4084_KY417144\n",
            "{33: tensor([ 0.0180, -0.0258, -0.0585,  ..., -0.0306, -0.0480, -0.0510])}\n",
            "SARS-CoV-1_HGZ8L1-A_HP03E_AY394981\n",
            "{33: tensor([ 0.0072, -0.0183, -0.0627,  ..., -0.0363, -0.0385, -0.0470])}\n",
            "YN2013_KJ473816\n",
            "{33: tensor([ 0.0345,  0.0070, -0.0486,  ..., -0.0230, -0.0955, -0.0233])}\n",
            "R_sinicus_3357_Yunnan_allele7_KC881004\n",
            "{33: tensor([ 0.0480, -0.0657, -0.0519,  ..., -0.0971, -0.0094,  0.0660])}\n",
            "R_affinis_9482\n",
            "{33: tensor([ 0.0467, -0.0617, -0.0435,  ..., -0.0993, -0.0088,  0.0612])}\n",
            "R_sinicus_1438_Guangdong_allele8\n",
            "{33: tensor([ 0.0447, -0.0649, -0.0522,  ..., -0.0999, -0.0067,  0.0629])}\n",
            "Civet_ACE2_Q56NL1\n",
            "{33: tensor([ 0.0513, -0.0555, -0.0516,  ..., -0.1029, -0.0176,  0.0775])}\n",
            "R_affinis_9486\n",
            "{33: tensor([ 0.0449, -0.0600, -0.0450,  ..., -0.1031, -0.0077,  0.0596])}\n",
            "R_sinicus_1448_Guangdong_allele4\n",
            "{33: tensor([ 0.0463, -0.0631, -0.0497,  ..., -0.1003, -0.0068,  0.0638])}\n",
            "R_sinicus_3358_Yunnan_allele7\n",
            "{33: tensor([ 0.0478, -0.0655, -0.0510,  ..., -0.0970, -0.0094,  0.0669])}\n",
            "Human_ACE2_NP001358344\n",
            "{33: tensor([ 0.0508, -0.0604, -0.0513,  ..., -0.0982, -0.0180,  0.0772])}\n",
            "R_affinis_9500\n",
            "{33: tensor([ 0.0463, -0.0616, -0.0435,  ..., -0.1001, -0.0084,  0.0622])}\n",
            "R_affinis_9476\n",
            "{33: tensor([ 0.0467, -0.0617, -0.0435,  ..., -0.0993, -0.0088,  0.0612])}\n",
            "R_affinis_9497\n",
            "{33: tensor([ 0.0467, -0.0617, -0.0435,  ..., -0.0993, -0.0088,  0.0612])}\n",
            "R_affinis_9490\n",
            "{33: tensor([ 0.0458, -0.0611, -0.0437,  ..., -0.1005, -0.0076,  0.0584])}\n",
            "R_sinicus_1434_Guangdong_allele6\n",
            "{33: tensor([ 0.0464, -0.0636, -0.0489,  ..., -0.1000, -0.0072,  0.0653])}\n",
            "R_affinis_9495\n",
            "{33: tensor([ 0.0467, -0.0617, -0.0435,  ..., -0.0993, -0.0088,  0.0612])}\n",
            "R_landeri_ACE2_ALJ94034\n",
            "{33: tensor([ 0.0414, -0.0630, -0.0506,  ..., -0.0993, -0.0146,  0.0643])}\n",
            "Mustela_lutreola_ACE2_QNC68911\n",
            "{33: tensor([ 0.0513, -0.0434, -0.0499,  ..., -0.1078, -0.0149,  0.0682])}\n",
            "Neovison_vison_ACE2partial_HAAF01014901\n",
            "{33: tensor([ 0.0781, -0.0399, -0.0837,  ..., -0.0827, -0.0534,  0.0505])}\n",
            "R_affinis_9494\n",
            "{33: tensor([ 0.0464, -0.0621, -0.0433,  ..., -0.0984, -0.0102,  0.0612])}\n",
            "R_sinicus_WJ2_Hubei_allele5\n",
            "{33: tensor([ 0.0445, -0.0627, -0.0498,  ..., -0.1010, -0.0058,  0.0638])}\n",
            "Pangolin_ACE2_XP017505746\n",
            "{33: tensor([ 0.0477, -0.0602, -0.0599,  ..., -0.1004, -0.0132,  0.0648])}\n",
            "R_sinicus_WJ6_Hubei_allele5\n",
            "{33: tensor([ 0.0445, -0.0627, -0.0498,  ..., -0.1010, -0.0058,  0.0638])}\n",
            "R_sinicus_WJ4_Hubei_allele2\n",
            "{33: tensor([ 0.0475, -0.0648, -0.0496,  ..., -0.1010, -0.0080,  0.0629])}\n",
            "R_affinis_9470\n",
            "{33: tensor([ 0.0467, -0.0617, -0.0435,  ..., -0.0993, -0.0088,  0.0612])}\n",
            "R_sinicus_1449_Guangdong_allele8\n",
            "{33: tensor([ 0.0447, -0.0649, -0.0522,  ..., -0.0999, -0.0067,  0.0629])}\n",
            "R_sinicus_1443_Guangdong_allele4\n",
            "{33: tensor([ 0.0465, -0.0635, -0.0489,  ..., -0.0997, -0.0070,  0.0644])}\n",
            "R_sinicus_3364_Yunnan_allele1\n",
            "{33: tensor([ 0.0468, -0.0627, -0.0500,  ..., -0.0973, -0.0077,  0.0655])}\n",
            "R_sinicus_3362_Yunnan_allele1\n",
            "{33: tensor([ 0.0476, -0.0629, -0.0498,  ..., -0.0961, -0.0085,  0.0665])}\n",
            "R_affinis_9496\n",
            "{33: tensor([ 0.0467, -0.0617, -0.0435,  ..., -0.0993, -0.0088,  0.0612])}\n",
            "R_ferrumequinum_ACE2_ADN93470_Houetal\n",
            "{33: tensor([ 0.0471, -0.0660, -0.0494,  ..., -0.0992, -0.0143,  0.0600])}\n",
            "Neovison_vison_ACE2_MW269526\n",
            "{33: tensor([ 0.0498, -0.0434, -0.0536,  ..., -0.1071, -0.0144,  0.0646])}\n",
            "R_affinis_9488\n",
            "{33: tensor([ 0.0467, -0.0617, -0.0435,  ..., -0.0993, -0.0088,  0.0612])}\n",
            "R_sinicus_3366_Yunnan_allele4\n",
            "{33: tensor([ 0.0489, -0.0633, -0.0492,  ..., -0.0973, -0.0094,  0.0667])}\n",
            "R_affinis_5538\n",
            "{33: tensor([ 0.0467, -0.0617, -0.0435,  ..., -0.0993, -0.0088,  0.0612])}\n",
            "R_affinis_4331\n",
            "{33: tensor([ 0.0449, -0.0600, -0.0450,  ..., -0.1031, -0.0077,  0.0596])}\n",
            "R_sinicus_3359_Yunnan_allele1\n",
            "{33: tensor([ 0.0476, -0.0629, -0.0498,  ..., -0.0961, -0.0085,  0.0665])}\n",
            "R_affinis_9489\n",
            "{33: tensor([ 0.0467, -0.0617, -0.0435,  ..., -0.0993, -0.0088,  0.0612])}\n",
            "R_macrotis_ACE2_ADN93471\n",
            "{33: tensor([ 0.0444, -0.0636, -0.0497,  ..., -0.1022, -0.0077,  0.0602])}\n",
            "R_affinis_9473\n",
            "{33: tensor([ 0.0467, -0.0617, -0.0435,  ..., -0.0993, -0.0088,  0.0612])}\n",
            "Mouse_ACE2_NP001123985\n",
            "{33: tensor([ 0.0552, -0.0543, -0.0560,  ..., -0.1079, -0.0183,  0.0739])}\n",
            "R_sinicus_WJ1_Hubei_allele5\n",
            "{33: tensor([ 0.0456, -0.0631, -0.0500,  ..., -0.1003, -0.0060,  0.0638])}\n",
            "R_sinicus_1433_Guangdong_allele4\n",
            "{33: tensor([ 0.0457, -0.0636, -0.0497,  ..., -0.1011, -0.0063,  0.0643])}\n",
            "R_affinis_9493\n",
            "{33: tensor([ 0.0467, -0.0617, -0.0435,  ..., -0.0993, -0.0088,  0.0612])}\n",
            "R_affinis_9498\n",
            "{33: tensor([ 0.0463, -0.0616, -0.0435,  ..., -0.1001, -0.0084,  0.0622])}\n",
            "R_sinicus_832_Hubei_allele4_GQ999936\n",
            "{33: tensor([ 0.0440, -0.0634, -0.0507,  ..., -0.1025, -0.0060,  0.0613])}\n",
            "R_affinis_9491\n",
            "{33: tensor([ 0.0467, -0.0617, -0.0435,  ..., -0.0993, -0.0088,  0.0612])}\n",
            "R_sinicus_1450_Guangdong_allele8\n",
            "{33: tensor([ 0.0452, -0.0646, -0.0517,  ..., -0.0978, -0.0081,  0.0627])}\n",
            "R_sinicus_984_Hubei_allele5\n",
            "{33: tensor([ 0.0445, -0.0627, -0.0498,  ..., -0.1010, -0.0058,  0.0638])}\n",
            "R_sinicus_5720_Yunnan_allele2\n",
            "{33: tensor([ 0.0475, -0.0648, -0.0496,  ..., -0.1010, -0.0080,  0.0629])}\n",
            "R_affinis_9508\n",
            "{33: tensor([ 0.0467, -0.0617, -0.0435,  ..., -0.0993, -0.0088,  0.0612])}\n",
            "R_affinis_9501\n",
            "{33: tensor([ 0.0468, -0.0624, -0.0424,  ..., -0.0999, -0.0099,  0.0625])}\n",
            "R_sinicus_ACT66275.1_HongKong_allele3_GQ262791\n",
            "{33: tensor([ 0.0481, -0.0648, -0.0483,  ..., -0.1020, -0.0081,  0.0639])}\n",
            "R_affinis_787\n",
            "{33: tensor([ 0.0467, -0.0617, -0.0435,  ..., -0.0993, -0.0088,  0.0612])}\n",
            "R_affinis_9479\n",
            "{33: tensor([ 0.0431, -0.0607, -0.0453,  ..., -0.1014, -0.0063,  0.0595])}\n",
            "R_sinicus_1455_Guangdong_allele4\n",
            "{33: tensor([ 0.0465, -0.0635, -0.0489,  ..., -0.0997, -0.0070,  0.0644])}\n",
            "R_sinicus_1446_Guangdong_allele4\n",
            "{33: tensor([ 0.0465, -0.0635, -0.0489,  ..., -0.0997, -0.0070,  0.0644])}\n",
            "R_sinicus_411_Guangxi_allele8_GQ999933\n",
            "{33: tensor([ 0.0453, -0.0653, -0.0539,  ..., -0.0996, -0.0097,  0.0624])}\n",
            "R_pusillus_ACE2_ADN93477\n",
            "{33: tensor([ 0.0467, -0.0594, -0.0460,  ..., -0.1059, -0.0071,  0.0662])}\n",
            "R_affinis_9492\n",
            "{33: tensor([ 0.0467, -0.0617, -0.0435,  ..., -0.0993, -0.0088,  0.0612])}\n",
            "R_pearsonii_ACE2_ABU54053\n",
            "{33: tensor([ 0.0370, -0.0635, -0.0494,  ..., -0.0993, -0.0053,  0.0632])}\n",
            "R_alcyone_ACE2_ALJ94035\n",
            "{33: tensor([ 0.0425, -0.0623, -0.0521,  ..., -0.0994, -0.0133,  0.0624])}\n",
            "RaccoonDog_ACE2_ABW16956\n",
            "{33: tensor([ 0.0590, -0.0518, -0.0481,  ..., -0.1041, -0.0175,  0.0613])}\n",
            "R_sinicus_5718_Yunnan_allele1\n",
            "{33: tensor([ 0.0473, -0.0627, -0.0496,  ..., -0.0979, -0.0080,  0.0650])}\n"
          ]
        }
      ]
    },
    {
      "cell_type": "code",
      "source": [
        "# Specify the folders containing the .pt files\n",
        "folder_paths = ['/content/coordoutputRBD.fasta', '/content/coordoutputACE2.fasta']\n",
        "\n",
        "formatted_dict = {}\n",
        "\n",
        "# Iterate over each folder\n",
        "for folder_path in folder_paths:\n",
        "    # List all files in the folder with .pt extension\n",
        "    pt_files = [f for f in os.listdir(folder_path) if f.endswith('.pt')]\n",
        "\n",
        "    # Iterate over each .pt file in the current folder\n",
        "    for file_name in pt_files:\n",
        "        # Construct the full path to the file\n",
        "        file_path = os.path.join(folder_path, file_name)\n",
        "\n",
        "        # Load the model using torch.load\n",
        "        model_dict = torch.load(file_path, map_location=torch.device('cpu'))\n",
        "\n",
        "        # Extract label and tensor values\n",
        "        label = model_dict['label']\n",
        "        tensor_values = model_dict['mean_representations'][33].numpy()\n",
        "\n",
        "        # Include the first three and last three numbers in the tensor\n",
        "        first_three = ','.join(map(str, tensor_values[:3]))\n",
        "        last_three = ','.join(map(str, tensor_values[-3:]))\n",
        "        formatted_dict[label] = f'{first_three} {last_three}'\n",
        "print(formatted_dict)"
      ],
      "metadata": {
        "colab": {
          "base_uri": "https://localhost:8080/"
        },
        "id": "iNDOpSKEtgSP",
        "outputId": "9ac7106e-0737-43e9-a52b-590fb2953d29"
      },
      "id": "iNDOpSKEtgSP",
      "execution_count": 112,
      "outputs": [
        {
          "output_type": "stream",
          "name": "stdout",
          "text": [
            "{'HKU3-13_GQ153548': '-0.0022763866,0.0154103255,-0.04875781 -0.07247379,-0.04686134,-0.034843765', 'SARS-CoV-1_SZ13_PC03_AY304487': '0.007573855,-0.020901507,-0.06383968 -0.039771188,-0.04213911,-0.049127687', 'Rs4237_KY417147': '0.048156098,0.0012575239,-0.068928 -0.05791074,-0.07284981,-0.03993152', 'SARS-CoV-1_SZ3_PC03_AY304486': '0.007573855,-0.020901507,-0.06383968 -0.039771188,-0.04213911,-0.049127687', 'SARS-CoV-1_BJ02_HP03M_AY278487': '0.0056334073,-0.0186178,-0.06809834 -0.04202691,-0.04113556,-0.044566154', 'RaTG13_MN996532': '0.006112268,-0.015761022,-0.084432974 -0.03386317,-0.0620671,-0.03750545', 'SARS-CoV-1_GZ0402_HP04_AY613947': '-0.0013685721,-0.018769514,-0.08796831 -0.05899874,-0.034390163,-0.03677005', 'Rf1_DQ412042': '0.057808384,-0.010201075,-0.04362325 -0.011498409,-0.10904997,-0.034847215', 'SARS-CoV-1_GD03T0013_HP04_AY525636': '0.0018673739,-0.024932323,-0.07391755 -0.04929164,-0.029917294,-0.051918983', 'BtKY72_KY352407': '0.023828233,-0.029728387,-0.07467746 -0.016235147,-0.06264966,-0.067961015', 'SARS-CoV-1_PC4-127_PC04_AY613951': '0.0071463324,-0.017543692,-0.08067917 -0.05329735,-0.032727882,-0.05013831', 'HuB2013_KJ473814': '0.024934188,0.0074367425,-0.06346079 -0.05095286,-0.062021114,-0.050806664', '273-2005_DQ648856': '0.053719614,-0.0067731887,-0.04150487 -0.011228381,-0.11100932,-0.03352931', 'WIV1_KF367457': '0.019994348,-0.0030489063,-0.08438139 -0.06529926,-0.038564637,-0.032028213', 'Rf4092_KY417145': '0.040241133,-0.005403053,-0.03021956 -0.019544896,-0.09100816,-0.032235455', 'Shaanxi2011_JX993987': '0.057300657,-0.004166479,-0.056554023 -0.056685217,-0.07986487,-0.04446032', 'HKU3-8_GQ153543': '0.02457405,0.009994517,-0.04790109 -0.046401497,-0.06477196,-0.041638568', 'SARS-CoV-1_Sino1-11_HP03L_AY485277': '0.0055665285,-0.025104346,-0.06556044 -0.037410516,-0.042397298,-0.047501534', 'BM48-31_NC014470': '0.0035615237,-0.04637235,-0.0687269 -0.029523818,-0.097613566,-0.06828144', 'HeB2013_KJ473812': '0.061608344,-0.0038329973,-0.04181048 -0.019186795,-0.09927304,-0.04079239', 'Rs4081_KY417143': '0.041923184,0.0057672695,-0.071307525 -0.06032757,-0.068830825,-0.04133186', 'GX2013_KJ473815': '0.012568641,0.008125379,-0.063186735 -0.055293947,-0.056651648,-0.0412706', 'SARS-CoV-1_GZ-C_HP03L_AY394979': '-0.00299422,-0.01839832,-0.07139439 -0.05115182,-0.040249635,-0.038912386', 'SARS-CoV-1_GD01_HP03L_AY278489': '0.0136488555,-0.017070837,-0.062301088 -0.03972042,-0.0335565,-0.05526425', 'Yunnan2011_JX993988': '0.043427408,0.011967678,-0.05286559 -0.040926717,-0.09199981,-0.027543912', '279-2005_DQ648857': '0.06693449,0.0114652375,-0.062329188 -0.058149986,-0.07136261,-0.043989643', 'Rp3_DQ071615': '0.041397404,0.00062963285,-0.065231346 -0.046697527,-0.079227746,-0.03555162', 'SARS-CoV-1_SZ1_PC03_AY304489': '0.007573855,-0.020901507,-0.06383968 -0.039771188,-0.04213911,-0.049127687', 'Rs4231_KY417146': '0.017032858,-0.026238035,-0.056827515 -0.030726295,-0.047966156,-0.051824607', 'ZC45_MG772933': '0.0415811,-0.0017497321,-0.051847897 -0.025724657,-0.09102126,-0.032508526', 'Hp-BCoV_Zhejiang_2013_KF636752': '0.06904073,-0.015638534,-0.029875837 -0.0730915,-0.10138759,-0.046061262', 'SARS-CoV-1_PC4-13_PC04_AY613948': '0.007435487,-0.015901884,-0.081229925 -0.054402508,-0.037138943,-0.047665235', 'SARS-CoV-1_Sin852_HP03L_AY559082': '0.0033463847,-0.01644419,-0.07162044 -0.042893738,-0.04406539,-0.042055756', 'RmYN02_EPI_ISL_412977': '0.040142603,0.001609197,-0.0493794 -0.014055503,-0.09951197,-0.02690232', 'As6526_KY417142': '0.053466104,-0.0028247924,-0.0700521 -0.064513385,-0.06982797,-0.04152134', 'JL2012_KJ473811': '0.06780536,-0.019976271,-0.041648246 -0.0010580634,-0.10909624,-0.036398344', 'Rs7327_KY417151': '0.0067813094,-0.024880994,-0.056167148 -0.034467503,-0.047583386,-0.041398577', 'SARS-CoV-1_Urbani_HP03L_AY278741': '0.0056334073,-0.0186178,-0.06809834 -0.04202691,-0.04113556,-0.044566154', 'WIV16_KT444582': '0.019994082,-0.0030488768,-0.08438125 -0.06529904,-0.038564686,-0.03202823', 'Longquan-140_KF294457': '0.015164934,-0.005727138,-0.06119228 -0.059107676,-0.061105125,-0.04579933', 'SARS-CoV-1_PC4-137_PC04_AY627045': '0.0039470242,-0.0229945,-0.08327425 -0.053233642,-0.034809735,-0.051736955', 'RsSHC014_KC881005': '0.015064217,-0.027325056,-0.055987 -0.030953111,-0.04602999,-0.050912607', 'Rs4247_KY417148': '0.020665787,-0.0012149147,-0.073369905 -0.06454795,-0.059598267,-0.045389306', 'HKU3-1_DQ022305': '-0.0022763866,0.0154103255,-0.04875781 -0.07247379,-0.04686134,-0.034843765', 'LYRa11_KF569996': '0.0059416825,-0.015574541,-0.053321537 -0.042735163,-0.045293838,-0.036729954', 'ZXC21_MG772934': '0.034464292,0.009226958,-0.063231796 -0.040723708,-0.083800375,-0.034158394', 'SARS-CoV-2_MN908947': '0.025990333,-0.012244035,-0.056677952 -0.035922024,-0.081975,-0.023026409', 'Rs4084_KY417144': '0.018029923,-0.025849188,-0.05851211 -0.030563587,-0.047971964,-0.050976448', 'SARS-CoV-1_HGZ8L1-A_HP03E_AY394981': '0.0072278697,-0.018315805,-0.06268112 -0.036282886,-0.038462568,-0.04695182', 'YN2013_KJ473816': '0.03448923,0.0069587026,-0.04859932 -0.02296438,-0.09546208,-0.023299286', 'R_sinicus_3357_Yunnan_allele7_KC881004': '0.047981326,-0.06570662,-0.051882036 -0.097106434,-0.009361819,0.06597969', 'R_affinis_9482': '0.04669489,-0.061690465,-0.04348991 -0.099298485,-0.008802739,0.061173424', 'R_sinicus_1438_Guangdong_allele8': '0.044693444,-0.06490785,-0.052191786 -0.099941246,-0.0067103766,0.062934875', 'Civet_ACE2_Q56NL1': '0.05130617,-0.055534456,-0.051642764 -0.10294882,-0.01758095,0.077482596', 'R_affinis_9486': '0.04493355,-0.059963256,-0.04499495 -0.103106335,-0.007696564,0.059599634', 'R_sinicus_1448_Guangdong_allele4': '0.046250362,-0.06305857,-0.049734946 -0.10034123,-0.006803573,0.06380237', 'R_sinicus_3358_Yunnan_allele7': '0.047808886,-0.065477125,-0.050978877 -0.096991144,-0.009350306,0.06689959', 'Human_ACE2_NP001358344': '0.050806314,-0.060433708,-0.051310044 -0.09823691,-0.01795566,0.07718655', 'R_affinis_9500': '0.04632019,-0.061602127,-0.043501217 -0.100120835,-0.008374643,0.062232193', 'R_affinis_9476': '0.04669489,-0.061690465,-0.04348991 -0.099298485,-0.008802739,0.061173424', 'R_affinis_9497': '0.04669489,-0.061690465,-0.04348991 -0.099298485,-0.008802739,0.061173424', 'R_affinis_9490': '0.04578606,-0.06112936,-0.043744247 -0.100525446,-0.0076030144,0.058432817', 'R_sinicus_1434_Guangdong_allele6': '0.046375383,-0.06363791,-0.04887313 -0.10004036,-0.0072458633,0.0652812', 'R_affinis_9495': '0.04669489,-0.061690465,-0.04348991 -0.099298485,-0.008802739,0.061173424', 'R_landeri_ACE2_ALJ94034': '0.041410536,-0.06296711,-0.050580956 -0.09930657,-0.014618241,0.06431521', 'Mustela_lutreola_ACE2_QNC68911': '0.051311236,-0.04337969,-0.049851436 -0.10775251,-0.014914701,0.068230085', 'Neovison_vison_ACE2partial_HAAF01014901': '0.07808074,-0.03990567,-0.08367276 -0.08271517,-0.053442203,0.05046645', 'R_affinis_9494': '0.046421774,-0.06213329,-0.043271128 -0.09838683,-0.010187212,0.061183948', 'R_sinicus_WJ2_Hubei_allele5': '0.044506297,-0.06268306,-0.04976838 -0.10097626,-0.0057854387,0.06380564', 'Pangolin_ACE2_XP017505746': '0.04767351,-0.06019687,-0.05990505 -0.100366905,-0.013228359,0.06478976', 'R_sinicus_WJ6_Hubei_allele5': '0.044506297,-0.06268306,-0.04976838 -0.10097626,-0.0057854387,0.06380564', 'R_sinicus_WJ4_Hubei_allele2': '0.04745759,-0.06480258,-0.049559187 -0.10102307,-0.00800444,0.06291149', 'R_affinis_9470': '0.04669489,-0.061690465,-0.04348991 -0.099298485,-0.008802739,0.061173424', 'R_sinicus_1449_Guangdong_allele8': '0.044693444,-0.06490785,-0.052191786 -0.099941246,-0.0067103766,0.062934875', 'R_sinicus_1443_Guangdong_allele4': '0.046468325,-0.063499786,-0.048909944 -0.09970737,-0.0069569335,0.06442088', 'R_sinicus_3364_Yunnan_allele1': '0.046834018,-0.06272212,-0.04997326 -0.097338244,-0.007679773,0.06554351', 'R_sinicus_3362_Yunnan_allele1': '0.04762127,-0.06288325,-0.04981228 -0.09609189,-0.00848957,0.066477925', 'R_affinis_9496': '0.04669489,-0.061690465,-0.04348991 -0.099298485,-0.008802739,0.061173424', 'R_ferrumequinum_ACE2_ADN93470_Houetal': '0.04713501,-0.06602823,-0.049373258 -0.099167906,-0.014339456,0.059987843', 'Neovison_vison_ACE2_MW269526': '0.04977468,-0.043368377,-0.053581018 -0.10712401,-0.014379156,0.06461095', 'R_affinis_9488': '0.04669489,-0.061690465,-0.04348991 -0.099298485,-0.008802739,0.061173424', 'R_sinicus_3366_Yunnan_allele4': '0.04894318,-0.06330284,-0.04920595 -0.0973292,-0.009352113,0.06671858', 'R_affinis_5538': '0.04669489,-0.061690465,-0.04348991 -0.099298485,-0.008802739,0.061173424', 'R_affinis_4331': '0.04493355,-0.059963256,-0.04499495 -0.103106335,-0.007696564,0.059599634', 'R_sinicus_3359_Yunnan_allele1': '0.04762127,-0.06288325,-0.04981228 -0.09609189,-0.00848957,0.066477925', 'R_affinis_9489': '0.04669489,-0.061690465,-0.04348991 -0.099298485,-0.008802739,0.061173424', 'R_macrotis_ACE2_ADN93471': '0.04440127,-0.063609995,-0.0496796 -0.10224872,-0.0077063115,0.060172413', 'R_affinis_9473': '0.04669489,-0.061690465,-0.04348991 -0.099298485,-0.008802739,0.061173424', 'Mouse_ACE2_NP001123985': '0.05519344,-0.05431307,-0.05598267 -0.107870474,-0.018280031,0.07387721', 'R_sinicus_WJ1_Hubei_allele5': '0.04557237,-0.06307582,-0.049994968 -0.10034031,-0.0060260063,0.063793845', 'R_sinicus_1433_Guangdong_allele4': '0.04571085,-0.06362435,-0.049715 -0.10108154,-0.006303357,0.06430741', 'R_affinis_9493': '0.04669489,-0.061690465,-0.04348991 -0.099298485,-0.008802739,0.061173424', 'R_affinis_9498': '0.04632019,-0.061602127,-0.043501217 -0.100120835,-0.008374643,0.062232193', 'R_sinicus_832_Hubei_allele4_GQ999936': '0.044011958,-0.06339745,-0.050705478 -0.102458164,-0.00599337,0.061316483', 'R_affinis_9491': '0.04669489,-0.061690465,-0.04348991 -0.099298485,-0.008802739,0.061173424', 'R_sinicus_1450_Guangdong_allele8': '0.045232244,-0.06460569,-0.051700953 -0.09777516,-0.008062013,0.06267339', 'R_sinicus_984_Hubei_allele5': '0.044506297,-0.06268306,-0.04976838 -0.10097626,-0.0057854387,0.06380564', 'R_sinicus_5720_Yunnan_allele2': '0.04745759,-0.06480258,-0.049559187 -0.10102307,-0.00800444,0.06291149', 'R_affinis_9508': '0.04669489,-0.061690465,-0.04348991 -0.099298485,-0.008802739,0.061173424', 'R_affinis_9501': '0.04682442,-0.06241055,-0.042378742 -0.09990839,-0.009919025,0.06247982', 'R_sinicus_ACT66275.1_HongKong_allele3_GQ262791': '0.048067555,-0.0647693,-0.048261307 -0.10200166,-0.008116697,0.06388159', 'R_affinis_787': '0.04669489,-0.061690465,-0.04348991 -0.099298485,-0.008802739,0.061173424', 'R_affinis_9479': '0.04313495,-0.060657818,-0.0453105 -0.10139541,-0.0063207867,0.059512213', 'R_sinicus_1455_Guangdong_allele4': '0.046468325,-0.063499786,-0.048909944 -0.09970737,-0.0069569335,0.06442088', 'R_sinicus_1446_Guangdong_allele4': '0.046468325,-0.063499786,-0.048909944 -0.09970737,-0.0069569335,0.06442088', 'R_sinicus_411_Guangxi_allele8_GQ999933': '0.045281556,-0.06528459,-0.053902403 -0.099579066,-0.009716403,0.062376086', 'R_pusillus_ACE2_ADN93477': '0.04669424,-0.059362262,-0.046001505 -0.1058821,-0.0070932754,0.06624111', 'R_affinis_9492': '0.04669489,-0.061690465,-0.04348991 -0.099298485,-0.008802739,0.061173424', 'R_pearsonii_ACE2_ABU54053': '0.03699797,-0.063471645,-0.049405187 -0.09932403,-0.005287739,0.06315579', 'R_alcyone_ACE2_ALJ94035': '0.042474158,-0.06233677,-0.052137613 -0.09935608,-0.0132907005,0.062433656', 'RaccoonDog_ACE2_ABW16956': '0.05895321,-0.051848505,-0.04813736 -0.104144365,-0.017508684,0.061271563', 'R_sinicus_5718_Yunnan_allele1': '0.0473003,-0.0626932,-0.04964394 -0.097864866,-0.008002878,0.06504707'}\n"
          ]
        }
      ]
    },
    {
      "cell_type": "code",
      "source": [
        "formatted_dict[label] = f'{first_three} {last_three}'\n",
        "for key, value in formatted_dict.items():\n",
        "    print(f'{key}: {value}')"
      ],
      "metadata": {
        "colab": {
          "base_uri": "https://localhost:8080/"
        },
        "id": "KRsuoMHkeTM0",
        "outputId": "b482914a-67f8-4127-e822-1b89660ea29f"
      },
      "id": "KRsuoMHkeTM0",
      "execution_count": 114,
      "outputs": [
        {
          "output_type": "stream",
          "name": "stdout",
          "text": [
            "HKU3-13_GQ153548: -0.0022763866,0.0154103255,-0.04875781 -0.07247379,-0.04686134,-0.034843765\n",
            "SARS-CoV-1_SZ13_PC03_AY304487: 0.007573855,-0.020901507,-0.06383968 -0.039771188,-0.04213911,-0.049127687\n",
            "Rs4237_KY417147: 0.048156098,0.0012575239,-0.068928 -0.05791074,-0.07284981,-0.03993152\n",
            "SARS-CoV-1_SZ3_PC03_AY304486: 0.007573855,-0.020901507,-0.06383968 -0.039771188,-0.04213911,-0.049127687\n",
            "SARS-CoV-1_BJ02_HP03M_AY278487: 0.0056334073,-0.0186178,-0.06809834 -0.04202691,-0.04113556,-0.044566154\n",
            "RaTG13_MN996532: 0.006112268,-0.015761022,-0.084432974 -0.03386317,-0.0620671,-0.03750545\n",
            "SARS-CoV-1_GZ0402_HP04_AY613947: -0.0013685721,-0.018769514,-0.08796831 -0.05899874,-0.034390163,-0.03677005\n",
            "Rf1_DQ412042: 0.057808384,-0.010201075,-0.04362325 -0.011498409,-0.10904997,-0.034847215\n",
            "SARS-CoV-1_GD03T0013_HP04_AY525636: 0.0018673739,-0.024932323,-0.07391755 -0.04929164,-0.029917294,-0.051918983\n",
            "BtKY72_KY352407: 0.023828233,-0.029728387,-0.07467746 -0.016235147,-0.06264966,-0.067961015\n",
            "SARS-CoV-1_PC4-127_PC04_AY613951: 0.0071463324,-0.017543692,-0.08067917 -0.05329735,-0.032727882,-0.05013831\n",
            "HuB2013_KJ473814: 0.024934188,0.0074367425,-0.06346079 -0.05095286,-0.062021114,-0.050806664\n",
            "273-2005_DQ648856: 0.053719614,-0.0067731887,-0.04150487 -0.011228381,-0.11100932,-0.03352931\n",
            "WIV1_KF367457: 0.019994348,-0.0030489063,-0.08438139 -0.06529926,-0.038564637,-0.032028213\n",
            "Rf4092_KY417145: 0.040241133,-0.005403053,-0.03021956 -0.019544896,-0.09100816,-0.032235455\n",
            "Shaanxi2011_JX993987: 0.057300657,-0.004166479,-0.056554023 -0.056685217,-0.07986487,-0.04446032\n",
            "HKU3-8_GQ153543: 0.02457405,0.009994517,-0.04790109 -0.046401497,-0.06477196,-0.041638568\n",
            "SARS-CoV-1_Sino1-11_HP03L_AY485277: 0.0055665285,-0.025104346,-0.06556044 -0.037410516,-0.042397298,-0.047501534\n",
            "BM48-31_NC014470: 0.0035615237,-0.04637235,-0.0687269 -0.029523818,-0.097613566,-0.06828144\n",
            "HeB2013_KJ473812: 0.061608344,-0.0038329973,-0.04181048 -0.019186795,-0.09927304,-0.04079239\n",
            "Rs4081_KY417143: 0.041923184,0.0057672695,-0.071307525 -0.06032757,-0.068830825,-0.04133186\n",
            "GX2013_KJ473815: 0.012568641,0.008125379,-0.063186735 -0.055293947,-0.056651648,-0.0412706\n",
            "SARS-CoV-1_GZ-C_HP03L_AY394979: -0.00299422,-0.01839832,-0.07139439 -0.05115182,-0.040249635,-0.038912386\n",
            "SARS-CoV-1_GD01_HP03L_AY278489: 0.0136488555,-0.017070837,-0.062301088 -0.03972042,-0.0335565,-0.05526425\n",
            "Yunnan2011_JX993988: 0.043427408,0.011967678,-0.05286559 -0.040926717,-0.09199981,-0.027543912\n",
            "279-2005_DQ648857: 0.06693449,0.0114652375,-0.062329188 -0.058149986,-0.07136261,-0.043989643\n",
            "Rp3_DQ071615: 0.041397404,0.00062963285,-0.065231346 -0.046697527,-0.079227746,-0.03555162\n",
            "SARS-CoV-1_SZ1_PC03_AY304489: 0.007573855,-0.020901507,-0.06383968 -0.039771188,-0.04213911,-0.049127687\n",
            "Rs4231_KY417146: 0.017032858,-0.026238035,-0.056827515 -0.030726295,-0.047966156,-0.051824607\n",
            "ZC45_MG772933: 0.0415811,-0.0017497321,-0.051847897 -0.025724657,-0.09102126,-0.032508526\n",
            "Hp-BCoV_Zhejiang_2013_KF636752: 0.06904073,-0.015638534,-0.029875837 -0.0730915,-0.10138759,-0.046061262\n",
            "SARS-CoV-1_PC4-13_PC04_AY613948: 0.007435487,-0.015901884,-0.081229925 -0.054402508,-0.037138943,-0.047665235\n",
            "SARS-CoV-1_Sin852_HP03L_AY559082: 0.0033463847,-0.01644419,-0.07162044 -0.042893738,-0.04406539,-0.042055756\n",
            "RmYN02_EPI_ISL_412977: 0.040142603,0.001609197,-0.0493794 -0.014055503,-0.09951197,-0.02690232\n",
            "As6526_KY417142: 0.053466104,-0.0028247924,-0.0700521 -0.064513385,-0.06982797,-0.04152134\n",
            "JL2012_KJ473811: 0.06780536,-0.019976271,-0.041648246 -0.0010580634,-0.10909624,-0.036398344\n",
            "Rs7327_KY417151: 0.0067813094,-0.024880994,-0.056167148 -0.034467503,-0.047583386,-0.041398577\n",
            "SARS-CoV-1_Urbani_HP03L_AY278741: 0.0056334073,-0.0186178,-0.06809834 -0.04202691,-0.04113556,-0.044566154\n",
            "WIV16_KT444582: 0.019994082,-0.0030488768,-0.08438125 -0.06529904,-0.038564686,-0.03202823\n",
            "Longquan-140_KF294457: 0.015164934,-0.005727138,-0.06119228 -0.059107676,-0.061105125,-0.04579933\n",
            "SARS-CoV-1_PC4-137_PC04_AY627045: 0.0039470242,-0.0229945,-0.08327425 -0.053233642,-0.034809735,-0.051736955\n",
            "RsSHC014_KC881005: 0.015064217,-0.027325056,-0.055987 -0.030953111,-0.04602999,-0.050912607\n",
            "Rs4247_KY417148: 0.020665787,-0.0012149147,-0.073369905 -0.06454795,-0.059598267,-0.045389306\n",
            "HKU3-1_DQ022305: -0.0022763866,0.0154103255,-0.04875781 -0.07247379,-0.04686134,-0.034843765\n",
            "LYRa11_KF569996: 0.0059416825,-0.015574541,-0.053321537 -0.042735163,-0.045293838,-0.036729954\n",
            "ZXC21_MG772934: 0.034464292,0.009226958,-0.063231796 -0.040723708,-0.083800375,-0.034158394\n",
            "SARS-CoV-2_MN908947: 0.025990333,-0.012244035,-0.056677952 -0.035922024,-0.081975,-0.023026409\n",
            "Rs4084_KY417144: 0.018029923,-0.025849188,-0.05851211 -0.030563587,-0.047971964,-0.050976448\n",
            "SARS-CoV-1_HGZ8L1-A_HP03E_AY394981: 0.0072278697,-0.018315805,-0.06268112 -0.036282886,-0.038462568,-0.04695182\n",
            "YN2013_KJ473816: 0.03448923,0.0069587026,-0.04859932 -0.02296438,-0.09546208,-0.023299286\n",
            "R_sinicus_3357_Yunnan_allele7_KC881004: 0.047981326,-0.06570662,-0.051882036 -0.097106434,-0.009361819,0.06597969\n",
            "R_affinis_9482: 0.04669489,-0.061690465,-0.04348991 -0.099298485,-0.008802739,0.061173424\n",
            "R_sinicus_1438_Guangdong_allele8: 0.044693444,-0.06490785,-0.052191786 -0.099941246,-0.0067103766,0.062934875\n",
            "Civet_ACE2_Q56NL1: 0.05130617,-0.055534456,-0.051642764 -0.10294882,-0.01758095,0.077482596\n",
            "R_affinis_9486: 0.04493355,-0.059963256,-0.04499495 -0.103106335,-0.007696564,0.059599634\n",
            "R_sinicus_1448_Guangdong_allele4: 0.046250362,-0.06305857,-0.049734946 -0.10034123,-0.006803573,0.06380237\n",
            "R_sinicus_3358_Yunnan_allele7: 0.047808886,-0.065477125,-0.050978877 -0.096991144,-0.009350306,0.06689959\n",
            "Human_ACE2_NP001358344: 0.050806314,-0.060433708,-0.051310044 -0.09823691,-0.01795566,0.07718655\n",
            "R_affinis_9500: 0.04632019,-0.061602127,-0.043501217 -0.100120835,-0.008374643,0.062232193\n",
            "R_affinis_9476: 0.04669489,-0.061690465,-0.04348991 -0.099298485,-0.008802739,0.061173424\n",
            "R_affinis_9497: 0.04669489,-0.061690465,-0.04348991 -0.099298485,-0.008802739,0.061173424\n",
            "R_affinis_9490: 0.04578606,-0.06112936,-0.043744247 -0.100525446,-0.0076030144,0.058432817\n",
            "R_sinicus_1434_Guangdong_allele6: 0.046375383,-0.06363791,-0.04887313 -0.10004036,-0.0072458633,0.0652812\n",
            "R_affinis_9495: 0.04669489,-0.061690465,-0.04348991 -0.099298485,-0.008802739,0.061173424\n",
            "R_landeri_ACE2_ALJ94034: 0.041410536,-0.06296711,-0.050580956 -0.09930657,-0.014618241,0.06431521\n",
            "Mustela_lutreola_ACE2_QNC68911: 0.051311236,-0.04337969,-0.049851436 -0.10775251,-0.014914701,0.068230085\n",
            "Neovison_vison_ACE2partial_HAAF01014901: 0.07808074,-0.03990567,-0.08367276 -0.08271517,-0.053442203,0.05046645\n",
            "R_affinis_9494: 0.046421774,-0.06213329,-0.043271128 -0.09838683,-0.010187212,0.061183948\n",
            "R_sinicus_WJ2_Hubei_allele5: 0.044506297,-0.06268306,-0.04976838 -0.10097626,-0.0057854387,0.06380564\n",
            "Pangolin_ACE2_XP017505746: 0.04767351,-0.06019687,-0.05990505 -0.100366905,-0.013228359,0.06478976\n",
            "R_sinicus_WJ6_Hubei_allele5: 0.044506297,-0.06268306,-0.04976838 -0.10097626,-0.0057854387,0.06380564\n",
            "R_sinicus_WJ4_Hubei_allele2: 0.04745759,-0.06480258,-0.049559187 -0.10102307,-0.00800444,0.06291149\n",
            "R_affinis_9470: 0.04669489,-0.061690465,-0.04348991 -0.099298485,-0.008802739,0.061173424\n",
            "R_sinicus_1449_Guangdong_allele8: 0.044693444,-0.06490785,-0.052191786 -0.099941246,-0.0067103766,0.062934875\n",
            "R_sinicus_1443_Guangdong_allele4: 0.046468325,-0.063499786,-0.048909944 -0.09970737,-0.0069569335,0.06442088\n",
            "R_sinicus_3364_Yunnan_allele1: 0.046834018,-0.06272212,-0.04997326 -0.097338244,-0.007679773,0.06554351\n",
            "R_sinicus_3362_Yunnan_allele1: 0.04762127,-0.06288325,-0.04981228 -0.09609189,-0.00848957,0.066477925\n",
            "R_affinis_9496: 0.04669489,-0.061690465,-0.04348991 -0.099298485,-0.008802739,0.061173424\n",
            "R_ferrumequinum_ACE2_ADN93470_Houetal: 0.04713501,-0.06602823,-0.049373258 -0.099167906,-0.014339456,0.059987843\n",
            "Neovison_vison_ACE2_MW269526: 0.04977468,-0.043368377,-0.053581018 -0.10712401,-0.014379156,0.06461095\n",
            "R_affinis_9488: 0.04669489,-0.061690465,-0.04348991 -0.099298485,-0.008802739,0.061173424\n",
            "R_sinicus_3366_Yunnan_allele4: 0.04894318,-0.06330284,-0.04920595 -0.0973292,-0.009352113,0.06671858\n",
            "R_affinis_5538: 0.04669489,-0.061690465,-0.04348991 -0.099298485,-0.008802739,0.061173424\n",
            "R_affinis_4331: 0.04493355,-0.059963256,-0.04499495 -0.103106335,-0.007696564,0.059599634\n",
            "R_sinicus_3359_Yunnan_allele1: 0.04762127,-0.06288325,-0.04981228 -0.09609189,-0.00848957,0.066477925\n",
            "R_affinis_9489: 0.04669489,-0.061690465,-0.04348991 -0.099298485,-0.008802739,0.061173424\n",
            "R_macrotis_ACE2_ADN93471: 0.04440127,-0.063609995,-0.0496796 -0.10224872,-0.0077063115,0.060172413\n",
            "R_affinis_9473: 0.04669489,-0.061690465,-0.04348991 -0.099298485,-0.008802739,0.061173424\n",
            "Mouse_ACE2_NP001123985: 0.05519344,-0.05431307,-0.05598267 -0.107870474,-0.018280031,0.07387721\n",
            "R_sinicus_WJ1_Hubei_allele5: 0.04557237,-0.06307582,-0.049994968 -0.10034031,-0.0060260063,0.063793845\n",
            "R_sinicus_1433_Guangdong_allele4: 0.04571085,-0.06362435,-0.049715 -0.10108154,-0.006303357,0.06430741\n",
            "R_affinis_9493: 0.04669489,-0.061690465,-0.04348991 -0.099298485,-0.008802739,0.061173424\n",
            "R_affinis_9498: 0.04632019,-0.061602127,-0.043501217 -0.100120835,-0.008374643,0.062232193\n",
            "R_sinicus_832_Hubei_allele4_GQ999936: 0.044011958,-0.06339745,-0.050705478 -0.102458164,-0.00599337,0.061316483\n",
            "R_affinis_9491: 0.04669489,-0.061690465,-0.04348991 -0.099298485,-0.008802739,0.061173424\n",
            "R_sinicus_1450_Guangdong_allele8: 0.045232244,-0.06460569,-0.051700953 -0.09777516,-0.008062013,0.06267339\n",
            "R_sinicus_984_Hubei_allele5: 0.044506297,-0.06268306,-0.04976838 -0.10097626,-0.0057854387,0.06380564\n",
            "R_sinicus_5720_Yunnan_allele2: 0.04745759,-0.06480258,-0.049559187 -0.10102307,-0.00800444,0.06291149\n",
            "R_affinis_9508: 0.04669489,-0.061690465,-0.04348991 -0.099298485,-0.008802739,0.061173424\n",
            "R_affinis_9501: 0.04682442,-0.06241055,-0.042378742 -0.09990839,-0.009919025,0.06247982\n",
            "R_sinicus_ACT66275.1_HongKong_allele3_GQ262791: 0.048067555,-0.0647693,-0.048261307 -0.10200166,-0.008116697,0.06388159\n",
            "R_affinis_787: 0.04669489,-0.061690465,-0.04348991 -0.099298485,-0.008802739,0.061173424\n",
            "R_affinis_9479: 0.04313495,-0.060657818,-0.0453105 -0.10139541,-0.0063207867,0.059512213\n",
            "R_sinicus_1455_Guangdong_allele4: 0.046468325,-0.063499786,-0.048909944 -0.09970737,-0.0069569335,0.06442088\n",
            "R_sinicus_1446_Guangdong_allele4: 0.046468325,-0.063499786,-0.048909944 -0.09970737,-0.0069569335,0.06442088\n",
            "R_sinicus_411_Guangxi_allele8_GQ999933: 0.045281556,-0.06528459,-0.053902403 -0.099579066,-0.009716403,0.062376086\n",
            "R_pusillus_ACE2_ADN93477: 0.04669424,-0.059362262,-0.046001505 -0.1058821,-0.0070932754,0.06624111\n",
            "R_affinis_9492: 0.04669489,-0.061690465,-0.04348991 -0.099298485,-0.008802739,0.061173424\n",
            "R_pearsonii_ACE2_ABU54053: 0.03699797,-0.063471645,-0.049405187 -0.09932403,-0.005287739,0.06315579\n",
            "R_alcyone_ACE2_ALJ94035: 0.042474158,-0.06233677,-0.052137613 -0.09935608,-0.0132907005,0.062433656\n",
            "RaccoonDog_ACE2_ABW16956: 0.05895321,-0.051848505,-0.04813736 -0.104144365,-0.017508684,0.061271563\n",
            "R_sinicus_5718_Yunnan_allele1: 0.0473003,-0.0626932,-0.04964394 -0.097864866,-0.008002878,0.06504707\n"
          ]
        }
      ]
    }
  ],
  "metadata": {
    "accelerator": "GPU",
    "colab": {
      "provenance": [],
      "include_colab_link": true
    },
    "kernelspec": {
      "display_name": "Python 3 (ipykernel)",
      "language": "python",
      "name": "python3"
    },
    "language_info": {
      "codemirror_mode": {
        "name": "ipython",
        "version": 3
      },
      "file_extension": ".py",
      "mimetype": "text/x-python",
      "name": "python",
      "nbconvert_exporter": "python",
      "pygments_lexer": "ipython3",
      "version": "3.9.7"
    }
  },
  "nbformat": 4,
  "nbformat_minor": 5
}