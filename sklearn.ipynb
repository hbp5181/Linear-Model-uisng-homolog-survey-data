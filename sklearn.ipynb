{
  "nbformat": 4,
  "nbformat_minor": 0,
  "metadata": {
    "colab": {
      "provenance": [],
      "authorship_tag": "ABX9TyMe429sULPNKGzBZmwu1PO/",
      "include_colab_link": true
    },
    "kernelspec": {
      "name": "python3",
      "display_name": "Python 3"
    },
    "language_info": {
      "name": "python"
    }
  },
  "cells": [
    {
      "cell_type": "markdown",
      "metadata": {
        "id": "view-in-github",
        "colab_type": "text"
      },
      "source": [
        "<a href=\"https://colab.research.google.com/github/hbp5181/Linear-Model-uisng-homolog-survey-data/blob/main/sklearn.ipynb\" target=\"_parent\"><img src=\"https://colab.research.google.com/assets/colab-badge.svg\" alt=\"Open In Colab\"/></a>"
      ]
    },
    {
      "cell_type": "code",
      "source": [
        "import pandas as pd\n",
        "from sklearn.model_selection import train_test_split\n",
        "from sklearn.linear_model import LinearRegression\n",
        "from sklearn.metrics import mean_squared_error,r2_score\n",
        "from scipy.stats import pearsonr\n",
        "import matplotlib.pyplot as plt\n",
        "import numpy as np\n",
        "\n",
        "\n",
        "data = pd.read_csv('/content/future learn data num.csv')\n",
        "# Convert 'ACE2' and 'RBD' columns to lists of numeric values\n",
        "\n",
        "data[['ACE2', 'RBD']] = data[['ACE2', 'RBD']].apply(lambda x: x.str.split(',').apply(lambda y: [float(i) for i in y]))\n",
        "# Combine 'ACE2' and 'RBD' columns into a list of 2560 numbers\n",
        "\n",
        "data['Combined'] = data.apply(lambda row: np.concatenate(row[['ACE2', 'RBD']]), axis=1)\n",
        "# Use 'Combined' as the feature (X) and 'Score' as the target (y)\n",
        "\n",
        "X = np.vstack(data['Combined'].apply(lambda x: np.array(x)).values)\n",
        "y = data['Score']\n",
        "\n",
        "# Split the data into training and testing sets\n",
        "X_train, X_test, y_train, y_test = train_test_split(X, y, test_size=0.2, random_state=42)\n",
        "\n",
        "# Create and train the linear model\n",
        "model = LinearRegression()\n",
        "model.fit(X_train, y_train)\n",
        "\n",
        "# Make predictions on the test set\n",
        "y_pred = model.predict(X_test)\n",
        "\n",
        "mse = mean_squared_error(y_test, y_pred)\n",
        "print(f'Mean Squared Error: {mse}')\n",
        "pearson_corr, _ = pearsonr(y_test, y_pred)\n",
        "print(f'Pearson Correlation Coefficient: {pearson_corr}')\n",
        "r_squared = r2_score(y_test, y_pred)\n",
        "print(f'R-squared: {r_squared}')\n",
        "\n"
      ],
      "metadata": {
        "colab": {
          "base_uri": "https://localhost:8080/"
        },
        "id": "jGQpUiXEUF0I",
        "outputId": "d93396a2-787a-43dc-a0f0-45461ddda05a"
      },
      "execution_count": 93,
      "outputs": [
        {
          "output_type": "stream",
          "name": "stdout",
          "text": [
            "Mean Squared Error: 1.8993992950473628\n",
            "Pearson Correlation Coefficient: 0.7393832140800812\n",
            "R-squared: 0.5161344374702712\n"
          ]
        }
      ]
    },
    {
      "cell_type": "code",
      "source": [
        "print(X_train.shape)"
      ],
      "metadata": {
        "colab": {
          "base_uri": "https://localhost:8080/"
        },
        "id": "vUO6Fo5QYLFV",
        "outputId": "3578e19e-f565-4ecd-9108-93497c75c210"
      },
      "execution_count": 94,
      "outputs": [
        {
          "output_type": "stream",
          "name": "stdout",
          "text": [
            "(396, 2560)\n"
          ]
        }
      ]
    },
    {
      "cell_type": "code",
      "source": [
        "print(data)"
      ],
      "metadata": {
        "colab": {
          "base_uri": "https://localhost:8080/"
        },
        "id": "-MQ74vdrYgjE",
        "outputId": "f0d87cc5-548f-4e65-b64a-6e91a40cb0a9"
      },
      "execution_count": 95,
      "outputs": [
        {
          "output_type": "stream",
          "name": "stdout",
          "text": [
            "                                                  ACE2  \\\n",
            "0    [0.05080631375312805, -0.060433708131313324, -...   \n",
            "1    [0.05080631375312805, -0.060433708131313324, -...   \n",
            "2    [0.05080631375312805, -0.060433708131313324, -...   \n",
            "3    [0.05080631375312805, -0.060433708131313324, -...   \n",
            "4    [0.05080631375312805, -0.060433708131313324, -...   \n",
            "..                                                 ...   \n",
            "491  [0.04637538269162178, -0.06363791227340698, -0...   \n",
            "492  [0.04637538269162178, -0.06363791227340698, -0...   \n",
            "493  [0.04637538269162178, -0.06363791227340698, -0...   \n",
            "494  [0.04637538269162178, -0.06363791227340698, -0...   \n",
            "495  [0.04637538269162178, -0.06363791227340698, -0...   \n",
            "\n",
            "                                                   RBD   Score  \\\n",
            "0    [0.013855443336069584, -0.02226926013827324, -...  5.0781   \n",
            "1    [0.01658058725297451, -0.032460033893585205, -...  5.1097   \n",
            "2    [0.0388360321521759, -0.035421647131443024, -0...  5.0940   \n",
            "3    [0.006342251785099506, -0.02245524898171425, -...  5.0977   \n",
            "4    [0.04085392504930496, -0.0356002151966095, -0....  5.1013   \n",
            "..                                                 ...     ...   \n",
            "491  [0.055172234773635864, -0.010839245282113552, ...  5.3995   \n",
            "492  [0.0344792865216732, -0.002410435350611806, -0...  5.4600   \n",
            "493  [0.051939189434051514, -0.011416452005505562, ...  5.3672   \n",
            "494  [0.044824834913015366, -0.008806419558823109, ...  5.3812   \n",
            "495  [0.0499710738658905, -0.008294754661619663, -0...  5.3734   \n",
            "\n",
            "                                              Combined  \n",
            "0    [0.05080631375312805, -0.060433708131313324, -...  \n",
            "1    [0.05080631375312805, -0.060433708131313324, -...  \n",
            "2    [0.05080631375312805, -0.060433708131313324, -...  \n",
            "3    [0.05080631375312805, -0.060433708131313324, -...  \n",
            "4    [0.05080631375312805, -0.060433708131313324, -...  \n",
            "..                                                 ...  \n",
            "491  [0.04637538269162178, -0.06363791227340698, -0...  \n",
            "492  [0.04637538269162178, -0.06363791227340698, -0...  \n",
            "493  [0.04637538269162178, -0.06363791227340698, -0...  \n",
            "494  [0.04637538269162178, -0.06363791227340698, -0...  \n",
            "495  [0.04637538269162178, -0.06363791227340698, -0...  \n",
            "\n",
            "[496 rows x 4 columns]\n"
          ]
        }
      ]
    }
  ]
}